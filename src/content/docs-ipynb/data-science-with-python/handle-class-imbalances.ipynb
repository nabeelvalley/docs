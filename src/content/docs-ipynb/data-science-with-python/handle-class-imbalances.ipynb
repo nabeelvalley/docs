{
 "nbformat": 4,
 "nbformat_minor": 2,
 "metadata": {
  "language_info": {
   "name": "python",
   "codemirror_mode": {
    "name": "ipython",
    "version": 2
   },
   "version": "3.8.2-final"
  },
  "orig_nbformat": 2,
  "file_extension": ".py",
  "mimetype": "text/x-python",
  "name": "python",
  "npconvert_exporter": "python",
  "pygments_lexer": "ipython2",
  "version": 2,
  "kernelspec": {
   "name": "python38232bitd09a5d163c874f48ad200d0eb082c70e",
   "display_name": "Python 3.8.2 32-bit"
  }
 },
 "cells": [
  {
   "cell_type": "code",
   "execution_count": 1,
   "metadata": {},
   "outputs": [],
   "source": [
    "DATA_URL = 'http://archive.ics.uci.edu/ml/machine-learning-databases/balance-scale/balance-scale.data'"
   ]
  },
  {
   "cell_type": "code",
   "execution_count": 2,
   "metadata": {},
   "outputs": [],
   "source": [
    "import pandas as pd"
   ]
  },
  {
   "cell_type": "markdown",
   "metadata": {},
   "source": [
    "# Handling Imbalanced Classes\n",
    "\n",
    "> From [this article](https://elitedatascience.com/imbalanced-classes)\n",
    "\n",
    "Class imbalances are a common occurence and can very easily lead to skewing of models as well as models that provide inaccurate accuracies for performance\n",
    "\n",
    "An example of a class imbalence would be something like in the `balance scale dataset` from [here](http://archive.ics.uci.edu/ml/datasets/balance+scale):"
   ]
  },
  {
   "cell_type": "code",
   "execution_count": 3,
   "metadata": {},
   "outputs": [
    {
     "data": {
      "text/html": "<div>\n<style scoped>\n    .dataframe tbody tr th:only-of-type {\n        vertical-align: middle;\n    }\n\n    .dataframe tbody tr th {\n        vertical-align: top;\n    }\n\n    .dataframe thead th {\n        text-align: right;\n    }\n</style>\n<table border=\"1\" class=\"dataframe\">\n  <thead>\n    <tr style=\"text-align: right;\">\n      <th></th>\n      <th>balance</th>\n      <th>var1</th>\n      <th>var2</th>\n      <th>var3</th>\n      <th>var4</th>\n    </tr>\n  </thead>\n  <tbody>\n    <tr>\n      <th>0</th>\n      <td>1</td>\n      <td>1</td>\n      <td>1</td>\n      <td>1</td>\n      <td>1</td>\n    </tr>\n    <tr>\n      <th>1</th>\n      <td>0</td>\n      <td>1</td>\n      <td>1</td>\n      <td>1</td>\n      <td>2</td>\n    </tr>\n    <tr>\n      <th>2</th>\n      <td>0</td>\n      <td>1</td>\n      <td>1</td>\n      <td>1</td>\n      <td>3</td>\n    </tr>\n    <tr>\n      <th>3</th>\n      <td>0</td>\n      <td>1</td>\n      <td>1</td>\n      <td>1</td>\n      <td>4</td>\n    </tr>\n    <tr>\n      <th>4</th>\n      <td>0</td>\n      <td>1</td>\n      <td>1</td>\n      <td>1</td>\n      <td>5</td>\n    </tr>\n  </tbody>\n</table>\n</div>",
      "text/plain": "   balance  var1  var2  var3  var4\n0        1     1     1     1     1\n1        0     1     1     1     2\n2        0     1     1     1     3\n3        0     1     1     1     4\n4        0     1     1     1     5"
     },
     "execution_count": 3,
     "metadata": {},
     "output_type": "execute_result"
    }
   ],
   "source": [
    "df = pd.read_csv(\n",
    "    DATA_URL, \n",
    "    names=['balance', 'var1', 'var2', 'var3', 'var4']\n",
    ")\n",
    "\n",
    "# transform into binary classification\n",
    "df['balance'] = [1 if b=='B' else 0 for b in df.balance]\n",
    "\n",
    "df.head()"
   ]
  },
  {
   "cell_type": "code",
   "execution_count": 4,
   "metadata": {},
   "outputs": [
    {
     "data": {
      "text/plain": "625"
     },
     "execution_count": 4,
     "metadata": {},
     "output_type": "execute_result"
    }
   ],
   "source": [
    "df.balance.count()"
   ]
  },
  {
   "cell_type": "markdown",
   "metadata": {},
   "source": [
    "In the above dataset we have the case where we have an imbalance of the class distribution in `balance`, we have `657` of the `False` class but only `49` of the `True` class. We can see this below:"
   ]
  },
  {
   "cell_type": "code",
   "execution_count": 5,
   "metadata": {},
   "outputs": [
    {
     "data": {
      "text/plain": "0    576\n1     49\nName: balance, dtype: int64"
     },
     "execution_count": 5,
     "metadata": {},
     "output_type": "execute_result"
    }
   ],
   "source": [
    "df.balance.value_counts()"
   ]
  },
  {
   "cell_type": "markdown",
   "metadata": {},
   "source": [
    "This means that even a model that only returns `False` will be correct `576/265` times, this isn't very meaningful to us. Since most ML algorithms try to optimize accuracy it will potentially yield something close to the above ratio\n",
    "\n",
    "A model as described would have a good accuracy overall, but be very bad at predicting the `True` values\n",
    "\n",
    "In order to counter this effect we need to balance our data in some way, we have two ways we can do this:\n",
    "\n",
    "1. Down-sample the majority class - potential data loss\n",
    "2. Up-sample the minority class - potential overfitting on minority class\n",
    "3. Penalize imbalanced predictions (if your model supports it)\n",
    "4. Use a tree-based algorithm (I've had issues with this in practice but claims to work in theory)\n",
    "5. Use Synthetic Samples for minority data (kind of like up-sampling)\n",
    "6. Use an Anomaly Detection algorithm to identify your minority classes\n",
    "\n",
    "We can do both of the above using the `sklearn.utils.resample` function\n",
    "\n",
    "> Try both for your model and see which yields better results"
   ]
  },
  {
   "cell_type": "code",
   "execution_count": 6,
   "metadata": {},
   "outputs": [],
   "source": [
    "from sklearn.utils import resample"
   ]
  },
  {
   "cell_type": "markdown",
   "metadata": {},
   "source": [
    "## 1. Down-sample the majority class"
   ]
  },
  {
   "cell_type": "code",
   "execution_count": 7,
   "metadata": {},
   "outputs": [],
   "source": [
    "df_minority = df[df.balance == 1]\n",
    "df_majority = df[df.balance == 0]\n",
    "\n",
    "df_majority_downsampled = resample(\n",
    "    df_majority, \n",
    "    replace=False,    \n",
    "    n_samples=len(df_minority), \n",
    "    random_state=0\n",
    ")\n",
    "\n",
    "df_balanced = pd.concat([df_minority, df_majority_downsampled])"
   ]
  },
  {
   "cell_type": "code",
   "execution_count": 8,
   "metadata": {},
   "outputs": [
    {
     "data": {
      "text/plain": "1    49\n0    49\nName: balance, dtype: int64"
     },
     "execution_count": 8,
     "metadata": {},
     "output_type": "execute_result"
    }
   ],
   "source": [
    "df_balanced.balance.value_counts()"
   ]
  },
  {
   "cell_type": "markdown",
   "metadata": {},
   "source": [
    "## 2. Up-sample the minority class"
   ]
  },
  {
   "cell_type": "code",
   "execution_count": 9,
   "metadata": {},
   "outputs": [],
   "source": [
    "df_minority = df[df.balance == 1]\n",
    "df_majority = df[df.balance == 0]\n",
    "\n",
    "df_minority_upsampled = resample(\n",
    "    df_minority, \n",
    "    replace=True,    \n",
    "    n_samples=len(df_majority), \n",
    "    random_state=0\n",
    ")\n",
    "\n",
    "df_balanced = pd.concat([df_minority_upsampled, df_majority])"
   ]
  },
  {
   "cell_type": "code",
   "execution_count": 10,
   "metadata": {},
   "outputs": [
    {
     "data": {
      "text/plain": "1    576\n0    576\nName: balance, dtype: int64"
     },
     "execution_count": 10,
     "metadata": {},
     "output_type": "execute_result"
    }
   ],
   "source": [
    "df_balanced.balance.value_counts()"
   ]
  },
  {
   "cell_type": "markdown",
   "metadata": {},
   "source": [
    "## 3. Penalize mistakes on minority classes\n",
    "\n",
    "If we're using a classifier like an SVM that supports penalization for incorrect predictions on minority classes we can use that too, for example the `sklearn.svm.SVC` we can set the `class_weight='balanced'` to make this happen"
   ]
  },
  {
   "cell_type": "code",
   "execution_count": 13,
   "metadata": {},
   "outputs": [],
   "source": [
    "from sklearn.svm import SVC"
   ]
  },
  {
   "cell_type": "code",
   "execution_count": 14,
   "metadata": {},
   "outputs": [],
   "source": [
    "X = df.drop('balance', axis=1)\n",
    "y = df.balance\n",
    "\n",
    "model = SVC(\n",
    "    kernel='linear', \n",
    "    class_weight='balanced',\n",
    "    probability=True\n",
    ")"
   ]
  },
  {
   "cell_type": "markdown",
   "metadata": {},
   "source": [
    "## Other Mehtods\n",
    "\n",
    "The methods above can be helpful at a general level, however some other things that can be looked into are:\n",
    "\n",
    "### Synthetic Sampling \n",
    "\n",
    "Synthetic sampling is a method of upsampling that slightly disturbs the samples so as not to be identical to the initial sample\n",
    "\n",
    "### Anomaly Detection\n",
    "\n",
    "If trying to detect a specific occurence of a class that isn't very common it may be useful to use an anomaly detection algorithm to identify these class instances, these might work well in cases where the class you're trying to identify has some 'abnormal' characteristics"
   ]
  },
  {
   "cell_type": "code",
   "execution_count": null,
   "metadata": {},
   "outputs": [],
   "source": []
  }
 ]
}