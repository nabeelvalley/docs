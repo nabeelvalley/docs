{
 "cells": [
  {
   "cell_type": "markdown",
   "metadata": {
    "deletable": true,
    "editable": true
   },
   "source": [
    "<a href=\"https://cognitiveclass.ai\"><img src = \"https://ibm.box.com/shared/static/9gegpsmnsoo25ikkbl4qzlvlyjbgxs5x.png\" width = 400> </a>\n",
    "\n",
    "<h1 align=center><font size = 5>From Understanding to Preparation</font></h1>"
   ]
  },
  {
   "cell_type": "markdown",
   "metadata": {
    "deletable": true,
    "editable": true
   },
   "source": [
    "## Introduction\n",
    "\n",
    "In this lab, we will continue learning about the data science methodology, and focus on the **Data Understanding** and the **Data Preparation** stages."
   ]
  },
  {
   "cell_type": "markdown",
   "metadata": {
    "deletable": true,
    "editable": true
   },
   "source": [
    "## Table of Contents\n",
    "\n",
    "<div class=\"alert alert-block alert-info\" style=\"margin-top: 20px\">\n",
    "1. [Recap](#0)<br>\n",
    "2. [Data Understanding](#2)<br>\n",
    "3. [Data Preparation](#4)<br>\n",
    "</div>\n",
    "<hr>"
   ]
  },
  {
   "cell_type": "markdown",
   "metadata": {
    "deletable": true,
    "editable": true
   },
   "source": [
    "# Recap <a id=\"0\"></a>"
   ]
  },
  {
   "cell_type": "markdown",
   "metadata": {
    "deletable": true,
    "editable": true
   },
   "source": [
    "In Lab **From Requirements to Collection**, we learned that the data we need to answer the question developed in the business understanding stage, namely *can we automate the process of determining the cuisine of a given recipe?*, is readily available. A researcher named Yong-Yeol Ahn scraped tens of thousands of food recipes (cuisines and ingredients) from three different websites, namely:"
   ]
  },
  {
   "cell_type": "markdown",
   "metadata": {
    "deletable": true,
    "editable": true
   },
   "source": [
    "<img src = \"https://ibm.box.com/shared/static/4fruwan7wmjov3gywiz3swlojw0srv54.png\" width=500>\n",
    "\n",
    "www.allrecipes.com\n",
    "\n",
    "<img src = \"https://ibm.box.com/shared/static/cebfdbr22fjxa47lltp0bs533r103g0z.png\" width=500>\n",
    "\n",
    "www.epicurious.com\n",
    "\n",
    "<img src = \"https://ibm.box.com/shared/static/epk727njg7xrz49pbkpkzd05cm5ywqmu.png\" width=500>\n",
    "\n",
    "www.menupan.com"
   ]
  },
  {
   "cell_type": "markdown",
   "metadata": {
    "deletable": true,
    "editable": true
   },
   "source": [
    "For more information on Yong-Yeol Ahn and his research, you can read his paper on [Flavor Network and the Principles of Food Pairing](http://yongyeol.com/papers/ahn-flavornet-2011.pdf)."
   ]
  },
  {
   "cell_type": "markdown",
   "metadata": {
    "deletable": true,
    "editable": true
   },
   "source": [
    "We also collected the data and placed it on an IBM server for your convenience.\n",
    "\n",
    "------------"
   ]
  },
  {
   "cell_type": "markdown",
   "metadata": {},
   "source": [
    "# Data Understanding <a id=\"2\"></a>"
   ]
  },
  {
   "cell_type": "markdown",
   "metadata": {
    "deletable": true,
    "editable": true
   },
   "source": [
    "<img src=\"https://ibm.box.com/shared/static/89geb3m0ge1z73s92hl8o8wdcpcrggtz.png\" width=500>"
   ]
  },
  {
   "cell_type": "markdown",
   "metadata": {},
   "source": [
    "<strong>Important note:</strong> Please note that you are not expected to know how to program in R. The following code is meant to illustrate the stages of data understanding and data preparation, so it is totally fine if you do not understand the individual lines of code. We have a full course on programming in R, <a href=\"http://cocl.us/RP0101EN_DS0103EN_LAB3_R\">R101</a>, so please feel free to complete the course if you are interested in learning how to program in R."
   ]
  },
  {
   "cell_type": "markdown",
   "metadata": {},
   "source": [
    "### Using this notebook:\n",
    "\n",
    "To run any of the following cells of code, you can type **Shift + Enter** to excute the code in a cell."
   ]
  },
  {
   "cell_type": "markdown",
   "metadata": {},
   "source": [
    "Get the version of R installed."
   ]
  },
  {
   "cell_type": "code",
   "execution_count": null,
   "metadata": {
    "collapsed": false
   },
   "outputs": [],
   "source": [
    "# check R version\n",
    "R.Version()$version.string"
   ]
  },
  {
   "cell_type": "markdown",
   "metadata": {},
   "source": [
    "Download the data from the IBM server."
   ]
  },
  {
   "cell_type": "code",
   "execution_count": null,
   "metadata": {
    "collapsed": false,
    "deletable": true,
    "editable": true
   },
   "outputs": [],
   "source": [
    "# click here and press Shift + Enter\n",
    "download.file(\"https://ibm.box.com/shared/static/5wah9atr5o1akuuavl2z9tkjzdinr1lv.csv\",\n",
    "              destfile = \"/resources/data/recipes.csv\", quiet = TRUE)\n",
    "\n",
    "recipes <- read.csv(\"/resources/data/recipes.csv\") # takes 30 seconds"
   ]
  },
  {
   "cell_type": "markdown",
   "metadata": {},
   "source": [
    "Show the first few rows."
   ]
  },
  {
   "cell_type": "code",
   "execution_count": null,
   "metadata": {
    "collapsed": false
   },
   "outputs": [],
   "source": [
    "head(recipes)"
   ]
  },
  {
   "cell_type": "markdown",
   "metadata": {},
   "source": [
    "Get the dimensions of the dataframe."
   ]
  },
  {
   "cell_type": "code",
   "execution_count": null,
   "metadata": {
    "collapsed": false
   },
   "outputs": [],
   "source": [
    "nrow(recipes)"
   ]
  },
  {
   "cell_type": "code",
   "execution_count": null,
   "metadata": {
    "collapsed": false
   },
   "outputs": [],
   "source": [
    "ncol(recipes)"
   ]
  },
  {
   "cell_type": "markdown",
   "metadata": {},
   "source": [
    "So our dataset consists of 57,691 recipes. Each row represents a recipe, and for each recipe, the corresponding cuisine is documented as well as whether 384 ingredients exist in the recipe or not beginning with almond and ending with zucchini."
   ]
  },
  {
   "cell_type": "markdown",
   "metadata": {},
   "source": [
    "We know that a basic sushi recipe includes the ingredients:\n",
    "* rice\n",
    "* soy sauce\n",
    "* wasabi\n",
    "* some fish/vegetables"
   ]
  },
  {
   "cell_type": "markdown",
   "metadata": {},
   "source": [
    "Let's check that these ingredients exist in our dataframe:"
   ]
  },
  {
   "cell_type": "code",
   "execution_count": null,
   "metadata": {
    "collapsed": false
   },
   "outputs": [],
   "source": [
    "grep(\"rice\", names(recipes), value = TRUE) # yes as rice\n",
    "grep(\"wasabi\", names(recipes), value = TRUE) # yes\n",
    "grep(\"soy\", names(recipes), value = TRUE) # yes as soy_sauce"
   ]
  },
  {
   "cell_type": "markdown",
   "metadata": {},
   "source": [
    "Yes, they do!\n",
    "\n",
    "* rice exists as rice.\n",
    "* wasabi exists as wasabi.\n",
    "* soy exists as soy_sauce.\n",
    "\n",
    "So maybe if a recipe contains all three ingredients: rice, wasabi, and soy_sauce, then we can confidently say that the recipe is a **Japanese** cuisine! Let's keep this in mind!\n",
    "\n",
    "----------------"
   ]
  },
  {
   "cell_type": "markdown",
   "metadata": {
    "deletable": true,
    "editable": true
   },
   "source": [
    "# Data Preparation <a id=\"4\"></a>"
   ]
  },
  {
   "cell_type": "markdown",
   "metadata": {},
   "source": [
    "<img src=\"https://ibm.box.com/shared/static/lqc2j3r0ndhokh77mubohwjqybzf8dhk.png\" width=500>"
   ]
  },
  {
   "cell_type": "markdown",
   "metadata": {},
   "source": [
    "In this section, we will prepare the data for the next stage in the data science methodology, which is modeling. This stage involves exploring the data further and making sure that it is in the right format for the machine learning algorithm that we selected in the analytic approach stage, which is decision trees."
   ]
  },
  {
   "cell_type": "markdown",
   "metadata": {},
   "source": [
    "First, look at the data to see if it needs cleaning."
   ]
  },
  {
   "cell_type": "code",
   "execution_count": null,
   "metadata": {
    "collapsed": false
   },
   "outputs": [],
   "source": [
    "base::table(recipes$country) # frequency table"
   ]
  },
  {
   "cell_type": "markdown",
   "metadata": {},
   "source": [
    "By looking at the above table, we can make the following observations:\n",
    "\n",
    "1. Cuisine column is labeled as Country, which is inaccurate.\n",
    "2. Cuisine names are not consistent as not all of them start with an uppercase first letter.\n",
    "3. Some cuisines are duplicated as variation of the country name, such as Vietnam and Vietnamese.\n",
    "4. Some cuisines have very few recipes."
   ]
  },
  {
   "cell_type": "markdown",
   "metadata": {},
   "source": [
    "#### Let's fixes these problems."
   ]
  },
  {
   "cell_type": "markdown",
   "metadata": {},
   "source": [
    "Fix the name of the column showing the cuisine."
   ]
  },
  {
   "cell_type": "code",
   "execution_count": null,
   "metadata": {
    "collapsed": true
   },
   "outputs": [],
   "source": [
    "colnames(recipes)[1] = \"cuisine\""
   ]
  },
  {
   "cell_type": "markdown",
   "metadata": {},
   "source": [
    "Make all the cuisine names lowercase."
   ]
  },
  {
   "cell_type": "code",
   "execution_count": null,
   "metadata": {
    "collapsed": false
   },
   "outputs": [],
   "source": [
    "recipes$cuisine <- tolower(as.character(recipes$cuisine))\n",
    "\n",
    "recipes"
   ]
  },
  {
   "cell_type": "markdown",
   "metadata": {},
   "source": [
    "Make the cuisine names consistent."
   ]
  },
  {
   "cell_type": "code",
   "execution_count": null,
   "metadata": {
    "collapsed": false
   },
   "outputs": [],
   "source": [
    "recipes$cuisine[recipes$cuisine == \"austria\"] <- \"austrian\"\n",
    "recipes$cuisine[recipes$cuisine == \"belgium\"] <- \"belgian\"\n",
    "recipes$cuisine[recipes$cuisine == \"china\"] <- \"chinese\"\n",
    "recipes$cuisine[recipes$cuisine == \"canada\"] <- \"canadian\"\n",
    "recipes$cuisine[recipes$cuisine == \"netherlands\"] <- \"dutch\"\n",
    "recipes$cuisine[recipes$cuisine == \"france\"] <- \"french\"\n",
    "recipes$cuisine[recipes$cuisine == \"germany\"] <- \"german\"\n",
    "recipes$cuisine[recipes$cuisine == \"india\"] <- \"indian\"\n",
    "recipes$cuisine[recipes$cuisine == \"indonesia\"] <- \"indonesian\"\n",
    "recipes$cuisine[recipes$cuisine == \"iran\"] <- \"iranian\"\n",
    "recipes$cuisine[recipes$cuisine == \"israel\"] <- \"jewish\"\n",
    "recipes$cuisine[recipes$cuisine == \"italy\"] <- \"italian\"\n",
    "recipes$cuisine[recipes$cuisine == \"japan\"] <- \"japanese\"\n",
    "recipes$cuisine[recipes$cuisine == \"korea\"] <- \"korean\"\n",
    "recipes$cuisine[recipes$cuisine == \"lebanon\"] <- \"lebanese\"\n",
    "recipes$cuisine[recipes$cuisine == \"malaysia\"] <- \"malaysian\"\n",
    "recipes$cuisine[recipes$cuisine == \"mexico\"] <- \"mexican\"\n",
    "recipes$cuisine[recipes$cuisine == \"pakistan\"] <- \"pakistani\"\n",
    "recipes$cuisine[recipes$cuisine == \"philippines\"] <- \"philippine\"\n",
    "recipes$cuisine[recipes$cuisine == \"scandinavia\"] <- \"scandinavian\"\n",
    "recipes$cuisine[recipes$cuisine == \"spain\"] <- \"spanish_portuguese\"\n",
    "recipes$cuisine[recipes$cuisine == \"portugal\"] <- \"spanish_portuguese\"\n",
    "recipes$cuisine[recipes$cuisine == \"switzerland\"] <- \"swiss\"\n",
    "recipes$cuisine[recipes$cuisine == \"thailand\"] <- \"thai\"\n",
    "recipes$cuisine[recipes$cuisine == \"turkey\"] <- \"turkish\"\n",
    "recipes$cuisine[recipes$cuisine == \"irish\"] <- \"uk-and-irish\"\n",
    "recipes$cuisine[recipes$cuisine == \"uk-and-ireland\"] <- \"uk-and-irish\"\n",
    "recipes$cuisine[recipes$cuisine == \"vietnam\"] <- \"vietnamese\"\n",
    "\n",
    "recipes"
   ]
  },
  {
   "cell_type": "markdown",
   "metadata": {},
   "source": [
    "Remove cuisines with < 50 recipes:"
   ]
  },
  {
   "cell_type": "code",
   "execution_count": null,
   "metadata": {
    "collapsed": false
   },
   "outputs": [],
   "source": [
    "# sort the table of cuisines by descending order\n",
    "t <- sort(base::table(recipes$cuisine), decreasing = T)\n",
    "\n",
    "t"
   ]
  },
  {
   "cell_type": "code",
   "execution_count": null,
   "metadata": {
    "collapsed": false
   },
   "outputs": [],
   "source": [
    "# get cuisines with >= 50 recipes\n",
    "filter_list <- names(t[t >= 50])\n",
    "\n",
    "filter_list"
   ]
  },
  {
   "cell_type": "code",
   "execution_count": null,
   "metadata": {
    "collapsed": false
   },
   "outputs": [],
   "source": [
    "before <- nrow(recipes) # number of rows of original dataframe\n",
    "print(paste0(\"Number of rows of original dataframe is \", before))\n",
    "\n",
    "recipes <- recipes[recipes$cuisine %in% filter_list,]\n",
    "\n",
    "after <- nrow(recipes)\n",
    "print(paste0(\"Number of rows of processed dataframe is \", after))\n",
    "\n",
    "print(paste0(before - after, \" rows removed!\"))"
   ]
  },
  {
   "cell_type": "markdown",
   "metadata": {},
   "source": [
    "Convert all of the columns into factors. This is to run the classification model later."
   ]
  },
  {
   "cell_type": "code",
   "execution_count": null,
   "metadata": {
    "collapsed": false
   },
   "outputs": [],
   "source": [
    "recipes[,names(recipes)] <- lapply(recipes[,names(recipes)], as.factor)\n",
    "\n",
    "recipes"
   ]
  },
  {
   "cell_type": "markdown",
   "metadata": {},
   "source": [
    "In R, you can check the structure of your data using the **str** function. Let's check the structure of our dataframe **recipes**."
   ]
  },
  {
   "cell_type": "code",
   "execution_count": null,
   "metadata": {
    "collapsed": false
   },
   "outputs": [],
   "source": [
    "str(recipes)"
   ]
  },
  {
   "cell_type": "markdown",
   "metadata": {},
   "source": [
    "#### Let's analyze the data a little more in order to learn the data better and note any interesting preliminary observations."
   ]
  },
  {
   "cell_type": "markdown",
   "metadata": {},
   "source": [
    "Run the following cell to get the recipes that contain **rice** *and* **soy** *and* **wasabi** *and* **seaweed**."
   ]
  },
  {
   "cell_type": "code",
   "execution_count": null,
   "metadata": {
    "collapsed": false
   },
   "outputs": [],
   "source": [
    "check_recipes <- recipes[\n",
    "    recipes$rice == \"Yes\" &\n",
    "    recipes$soy_sauce == \"Yes\" &\n",
    "    recipes$wasabi == \"Yes\" &\n",
    "    recipes$seaweed == \"Yes\",\n",
    "]\n",
    "\n",
    "check_recipes"
   ]
  },
  {
   "cell_type": "markdown",
   "metadata": {},
   "source": [
    "Based on the results of the above code, can we classify all recipes that contain **rice** *and* **soy** *and* **wasabi** *and* **seaweed** as **Japanese** recipes? Why?"
   ]
  },
  {
   "cell_type": "raw",
   "metadata": {},
   "source": [
    "Your Answer:"
   ]
  },
  {
   "cell_type": "markdown",
   "metadata": {},
   "source": [
    "Double-click __here__ for the solution.\n",
    "<!-- The correct answer is:\n",
    "No, because other recipes such as Asian and East_Asian recipes also contain these ingredients.\n",
    "-->"
   ]
  },
  {
   "cell_type": "markdown",
   "metadata": {},
   "source": [
    "Let's count the ingredients across all recipes."
   ]
  },
  {
   "cell_type": "code",
   "execution_count": null,
   "metadata": {
    "collapsed": false
   },
   "outputs": [],
   "source": [
    "# sum the row count when the value of the row in a column is equal to \"Yes\" (value of 2)\n",
    "ingred <- unlist(\n",
    "            lapply( recipes[, names(recipes)], function(x) sum(as.integer(x) == 2))\n",
    "            )\n",
    "\n",
    "# transpose the dataframe so that each row is an ingredient\n",
    "ingred <- as.data.frame( t( as.data.frame(ingred) ))\n",
    "                \n",
    "ing_df <- data.frame(\"ingredient\" = names(ingred), \n",
    "                     \"count\" = as.numeric(ingred[1,])\n",
    "                    )[-1,]\n",
    "                \n",
    "ing_df"
   ]
  },
  {
   "cell_type": "markdown",
   "metadata": {},
   "source": [
    "Now we have a dataframe of ingredients and their total counts across all recipes. Let's sort this dataframe in descending order."
   ]
  },
  {
   "cell_type": "code",
   "execution_count": null,
   "metadata": {
    "collapsed": false
   },
   "outputs": [],
   "source": [
    "ing_df_sort <- ing_df[order(ing_df$count, decreasing = TRUE),]\n",
    "rownames(ing_df_sort) <- 1:nrow(ing_df_sort)\n",
    "\n",
    "ing_df_sort"
   ]
  },
  {
   "cell_type": "markdown",
   "metadata": {},
   "source": [
    "#### What are the 3 most popular ingredients?"
   ]
  },
  {
   "cell_type": "raw",
   "metadata": {},
   "source": [
    "Your Answer:\n",
    "1.\n",
    "\n",
    "2.\n",
    "\n",
    "3."
   ]
  },
  {
   "cell_type": "markdown",
   "metadata": {},
   "source": [
    "Double-click __here__ for the solution.\n",
    "<!-- The correct answer is:\n",
    "// 1. Egg with 21,025 occurrences. \n",
    "// 2. Wheat with 20,781 occurrences. \n",
    "// 3. Butter with 20,719 occurrences.\n",
    "-->"
   ]
  },
  {
   "cell_type": "markdown",
   "metadata": {},
   "source": [
    "However, note that there is a problem with the above table. There are ~40,000 American recipes in our dataset, which means that the data is biased towards American ingredients."
   ]
  },
  {
   "cell_type": "markdown",
   "metadata": {},
   "source": [
    "**Therefore**, let's compute a more objective summary of the ingredients by looking at the ingredients per cuisine."
   ]
  },
  {
   "cell_type": "markdown",
   "metadata": {},
   "source": [
    "#### Let's create a *profile* for each cuisine.\n",
    "\n",
    "In other words, let's try to find out what ingredients Chinese people typically use, and what is **Canadian** food for example."
   ]
  },
  {
   "cell_type": "code",
   "execution_count": null,
   "metadata": {
    "collapsed": false
   },
   "outputs": [],
   "source": [
    "# create a dataframe of the counts of ingredients by cuisine, normalized by the number of \n",
    "# recipes pertaining to that cuisine\n",
    "by_cuisine_norm <- aggregate(recipes, \n",
    "                        by = list(recipes$cuisine), \n",
    "                        FUN = function(x) round(sum(as.integer(x) == 2)/\n",
    "                                                length(as.integer(x)),4))\n",
    "# remove the unnecessary column \"cuisine\"\n",
    "by_cuisine_norm <- by_cuisine_norm[,-2]\n",
    "\n",
    "# rename the first column into \"cuisine\"\n",
    "names(by_cuisine_norm)[1] <- \"cuisine\"\n",
    "                            \n",
    "head(by_cuisine_norm)"
   ]
  },
  {
   "cell_type": "markdown",
   "metadata": {},
   "source": [
    "As shown above, we have just created a dataframe where each row is a cuisine and each column (except for the first column) is an ingredient, and the row values represent the percentage of each ingredient in the corresponding cuisine.\n",
    "\n",
    "**For example**:\n",
    "\n",
    "* *almond* is present across 15.65% of all of the **African** recipes.\n",
    "* *butter* is present across 38.11% of all of the **Canadian** recipes."
   ]
  },
  {
   "cell_type": "markdown",
   "metadata": {},
   "source": [
    "Let's print out the profile for each cuisine by displaying the top four ingredients in each cuisine."
   ]
  },
  {
   "cell_type": "code",
   "execution_count": null,
   "metadata": {
    "collapsed": false,
    "scrolled": false
   },
   "outputs": [],
   "source": [
    "for(nation in by_cuisine_norm$cuisine){\n",
    "    x <- sort(by_cuisine_norm[by_cuisine_norm$cuisine == nation,][-1], decreasing = TRUE)\n",
    "    cat(c(toupper(nation)))\n",
    "    cat(\"\\n\")\n",
    "    cat(paste0(names(x)[1:4], \" (\", round(x[1:4]*100,0), \"%) \"))\n",
    "    cat(\"\\n\")\n",
    "    cat(\"\\n\")\n",
    "}"
   ]
  },
  {
   "cell_type": "markdown",
   "metadata": {},
   "source": [
    "At this point, we feel that we have understood the data well and the data is ready and is in the right format for modeling!\n",
    "\n",
    "-----------"
   ]
  },
  {
   "cell_type": "markdown",
   "metadata": {
    "deletable": true,
    "editable": true
   },
   "source": [
    "### Thank you for completing this lab!\n",
    "\n",
    "This notebook was created by [Polong Lin](https://ca.linkedin.com/in/polonglin) and revised by [Alex Aklson](https://www.linkedin.com/in/aklson/). We hope you found this lab session interesting. Feel free to contact us if you have any questions!"
   ]
  },
  {
   "cell_type": "markdown",
   "metadata": {
    "deletable": true,
    "editable": true
   },
   "source": [
    "This notebook is part of the free course on **Cognitive Class** called *Data Science Methodology*. If you accessed this notebook outside the course, you can take this free self-paced course, online by clicking [here](http://cocl.us/DS0103EN_LAB3_R)."
   ]
  },
  {
   "cell_type": "markdown",
   "metadata": {
    "deletable": true,
    "editable": true
   },
   "source": [
    "<hr>\n",
    "Copyright &copy; 2018 [Cognitive Class](https://cognitiveclass.ai/?utm_source=bducopyrightlink&utm_medium=dswb&utm_campaign=bdu). This notebook and its source code are released under the terms of the [MIT License](https://bigdatauniversity.com/mit-license/)."
   ]
  }
 ],
 "metadata": {
  "kernelspec": {
   "display_name": "R",
   "language": "R",
   "name": "ir"
  },
  "language_info": {
   "codemirror_mode": "r",
   "file_extension": ".r",
   "mimetype": "text/x-r-source",
   "name": "R",
   "pygments_lexer": "r",
   "version": "3.3.2"
  },
  "widgets": {
   "state": {},
   "version": "1.1.2"
  }
 },
 "nbformat": 4,
 "nbformat_minor": 2
}
