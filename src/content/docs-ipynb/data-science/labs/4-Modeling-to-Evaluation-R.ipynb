{
 "cells": [
  {
   "cell_type": "markdown",
   "metadata": {
    "deletable": true,
    "editable": true
   },
   "source": [
    "<a href=\"https://cognitiveclass.ai\"><img src = \"https://ibm.box.com/shared/static/9gegpsmnsoo25ikkbl4qzlvlyjbgxs5x.png\" width = 400> </a>\n",
    "\n",
    "<h1 align=center><font size = 5>From Modeling to Evaluation</font></h1>"
   ]
  },
  {
   "cell_type": "markdown",
   "metadata": {},
   "source": [
    "## Introduction\n",
    "\n",
    "In this lab, we will continue learning about the data science methodology, and focus on the **Modeling** and **Evaluation** stages.\n",
    "\n",
    "------------"
   ]
  },
  {
   "cell_type": "markdown",
   "metadata": {},
   "source": [
    "## Table of Contents\n",
    "\n",
    "\n",
    "<div class=\"alert alert-block alert-info\" style=\"margin-top: 20px\">\n",
    "\n",
    "1. [Recap](#0)<br>\n",
    "2. [Data Modeling](#2)<br>\n",
    "3. [Model Evaluation](#4)<br>\n",
    "</div>\n",
    "<hr>"
   ]
  },
  {
   "cell_type": "markdown",
   "metadata": {},
   "source": [
    "# Recap <a id=\"0\"></a>\n",
    "\n",
    "In Lab **From Understanding to Preparation**, we explored the data and prepared it for modeling."
   ]
  },
  {
   "cell_type": "markdown",
   "metadata": {},
   "source": [
    "The data was compiled by a researcher named Yong-Yeol Ahn, who scraped tens of thousands of food recipes (cuisines and ingredients) from three different websites, namely:"
   ]
  },
  {
   "cell_type": "markdown",
   "metadata": {},
   "source": [
    "<img src=\"https://ibm.box.com/shared/static/4fruwan7wmjov3gywiz3swlojw0srv54.png\" width=500>\n",
    "\n",
    "www.allrecipes.com\n",
    "\n",
    "<img src=\"https://ibm.box.com/shared/static/cebfdbr22fjxa47lltp0bs533r103g0z.png\" width=500>\n",
    "\n",
    "www.epicurious.com\n",
    "\n",
    "<img src=\"https://ibm.box.com/shared/static/epk727njg7xrz49pbkpkzd05cm5ywqmu.png\" width=500>\n",
    "\n",
    "www.menupan.com"
   ]
  },
  {
   "cell_type": "markdown",
   "metadata": {},
   "source": [
    "For more information on Yong-Yeol Ahn and his research, you can read his paper on [Flavor Network and the Principles of Food Pairing](http://yongyeol.com/papers/ahn-flavornet-2011.pdf)."
   ]
  },
  {
   "cell_type": "markdown",
   "metadata": {},
   "source": [
    "<strong> Important note:</strong> Please note that you are not expected to know how to program in R. This lab is meant to illustrate the stages of modeling and evaluation of the data science methodology, so it is totally fine if you do not understand the individual lines of code. We have a full course on programming in R, <a href=\"http://cocl.us/RP0101EN_DS0103EN_LAB4_R\">R101</a>, so please feel free to complete the course if you are interested in learning how to program in R."
   ]
  },
  {
   "cell_type": "markdown",
   "metadata": {},
   "source": [
    "### Using this notebook:\n",
    "\n",
    "To run any of the following cells of code, you can type **Shift + Enter** to excute the code in a cell."
   ]
  },
  {
   "cell_type": "markdown",
   "metadata": {},
   "source": [
    "We already placed the data on an IBM server for your convenience, so let's download it from server and read it into a dataframe called **recipes**."
   ]
  },
  {
   "cell_type": "code",
   "execution_count": null,
   "metadata": {
    "collapsed": true
   },
   "outputs": [],
   "source": [
    "# click here and press Shift + Enter\n",
    "download.file(\"https://ibm.box.com/shared/static/5wah9atr5o1akuuavl2z9tkjzdinr1lv.csv\",\n",
    "              destfile = \"/resources/data/recipes.csv\", quiet = TRUE)\n",
    "\n",
    "recipes <- read.csv(\"/resources/data/recipes.csv\") # takes 30 seconds"
   ]
  },
  {
   "cell_type": "markdown",
   "metadata": {},
   "source": [
    "We will repeat the preprocessing steps that we implemented in Lab **From Understanding to Preparation** in order to prepare the data for modeling. For more details on preparing the data, please refer to Lab **From Understanding to Preparation**."
   ]
  },
  {
   "cell_type": "code",
   "execution_count": null,
   "metadata": {
    "collapsed": false
   },
   "outputs": [],
   "source": [
    "# fix name of the column displaying the cuisine\n",
    "colnames(recipes)[1] = \"cuisine\"\n",
    "\n",
    "# convert cuisine names to lower case\n",
    "recipes$cuisine <- tolower(as.character(recipes$cuisine)) \n",
    "\n",
    "# make the cuisine names consistent\n",
    "recipes$cuisine[recipes$cuisine == \"austria\"] <- \"austrian\"\n",
    "recipes$cuisine[recipes$cuisine == \"belgium\"] <- \"belgian\"\n",
    "recipes$cuisine[recipes$cuisine == \"china\"] <- \"chinese\"\n",
    "recipes$cuisine[recipes$cuisine == \"canada\"] <- \"canadian\"\n",
    "recipes$cuisine[recipes$cuisine == \"netherlands\"] <- \"dutch\"\n",
    "recipes$cuisine[recipes$cuisine == \"france\"] <- \"french\"\n",
    "recipes$cuisine[recipes$cuisine == \"germany\"] <- \"german\"\n",
    "recipes$cuisine[recipes$cuisine == \"india\"] <- \"indian\"\n",
    "recipes$cuisine[recipes$cuisine == \"indonesia\"] <- \"indonesian\"\n",
    "recipes$cuisine[recipes$cuisine == \"iran\"] <- \"iranian\"\n",
    "recipes$cuisine[recipes$cuisine == \"israel\"] <- \"jewish\"\n",
    "recipes$cuisine[recipes$cuisine == \"italy\"] <- \"italian\"\n",
    "recipes$cuisine[recipes$cuisine == \"japan\"] <- \"japanese\"\n",
    "recipes$cuisine[recipes$cuisine == \"korea\"] <- \"korean\"\n",
    "recipes$cuisine[recipes$cuisine == \"lebanon\"] <- \"lebanese\"\n",
    "recipes$cuisine[recipes$cuisine == \"malaysia\"] <- \"malaysian\"\n",
    "recipes$cuisine[recipes$cuisine == \"mexico\"] <- \"mexican\"\n",
    "recipes$cuisine[recipes$cuisine == \"pakistan\"] <- \"pakistani\"\n",
    "recipes$cuisine[recipes$cuisine == \"philippines\"] <- \"philippine\"\n",
    "recipes$cuisine[recipes$cuisine == \"scandinavia\"] <- \"scandinavian\"\n",
    "recipes$cuisine[recipes$cuisine == \"spain\"] <- \"spanish_portuguese\"\n",
    "recipes$cuisine[recipes$cuisine == \"portugal\"] <- \"spanish_portuguese\"\n",
    "recipes$cuisine[recipes$cuisine == \"switzerland\"] <- \"swiss\"\n",
    "recipes$cuisine[recipes$cuisine == \"thailand\"] <- \"thai\"\n",
    "recipes$cuisine[recipes$cuisine == \"turkey\"] <- \"turkish\"\n",
    "recipes$cuisine[recipes$cuisine == \"irish\"] <- \"uk-and-irish\"\n",
    "recipes$cuisine[recipes$cuisine == \"uk-and-ireland\"] <- \"uk-and-irish\"\n",
    "recipes$cuisine[recipes$cuisine == \"vietnam\"] <- \"vietnamese\"\n",
    "\n",
    "# remove data for cuisines with < 50 recipes:\n",
    "t <- sort(base::table(recipes$cuisine), decreasing = T)\n",
    "filter_list <- names( t[ t >= 50 ] )\n",
    "recipes <- recipes[recipes$cuisine %in% filter_list, ]\n",
    "recipes$cuisine <- as.factor(as.character(recipes$cuisine))\n",
    "sort(base::table(recipes$cuisine), decreasing = T)\n",
    "\n",
    "# convert all of the columns into factors (to run the classification model later)\n",
    "recipes[,names(recipes)] <- lapply(recipes[,names(recipes)] , as.factor)"
   ]
  },
  {
   "cell_type": "markdown",
   "metadata": {
    "deletable": true,
    "editable": true
   },
   "source": [
    "<hr>"
   ]
  },
  {
   "cell_type": "markdown",
   "metadata": {
    "deletable": true,
    "editable": true
   },
   "source": [
    "# Data Modeling <a id=\"2\"></a>"
   ]
  },
  {
   "cell_type": "markdown",
   "metadata": {},
   "source": [
    "<img src=\"https://ibm.box.com/shared/static/d6fiatxvraho57fq3tfyblsf38fzi61f.png\" width=500>"
   ]
  },
  {
   "cell_type": "markdown",
   "metadata": {},
   "source": [
    "Let's start by importing and installing the R libraries relevant to decision trees"
   ]
  },
  {
   "cell_type": "code",
   "execution_count": null,
   "metadata": {
    "collapsed": false,
    "deletable": true,
    "editable": true
   },
   "outputs": [],
   "source": [
    "# load libraries\n",
    "library(rpart)\n",
    "\n",
    "if(\"rpart.plot\" %in% rownames(installed.packages()) == FALSE) {install.packages(\"rpart.plot\", \n",
    "    repo = \"http://mirror.las.iastate.edu/CRAN/\")}\n",
    "library(rpart.plot)\n",
    "\n",
    "print(\"Libraries loaded!\")"
   ]
  },
  {
   "cell_type": "markdown",
   "metadata": {
    "deletable": true,
    "editable": true
   },
   "source": [
    "Check the data again!"
   ]
  },
  {
   "cell_type": "code",
   "execution_count": null,
   "metadata": {
    "collapsed": false,
    "deletable": true,
    "editable": true
   },
   "outputs": [],
   "source": [
    "head(recipes)"
   ]
  },
  {
   "cell_type": "markdown",
   "metadata": {
    "deletable": true,
    "editable": true
   },
   "source": [
    "## [bamboo_tree] Only Asian and Indian Cuisines\n",
    "\n",
    "Here, we are creating a decision tree for the recipes for just some of the Asian (Korean, Japanese, Chinese, Thai) and Indian cuisines. The reason for this is because the decision tree does not run well when the data is biased towards one cuisine, in this case American cuisines. One option is to exclude the American cuisines from our analysis or just build decision trees for different subsets of the data. Let's go with the latter solution."
   ]
  },
  {
   "cell_type": "markdown",
   "metadata": {
    "deletable": true,
    "editable": true
   },
   "source": [
    "Let's build our decision tree using the data pertaining to the Asian and Indian cuisines and name our decision tree *bamboo_tree*."
   ]
  },
  {
   "cell_type": "code",
   "execution_count": null,
   "metadata": {
    "collapsed": false,
    "deletable": true,
    "editable": true
   },
   "outputs": [],
   "source": [
    "# select subset of cuisines\n",
    "cuisines_to_keep = c(\"korean\", \"japanese\", \"chinese\", \"thai\", \"indian\")\n",
    "cuisines_data <- recipes[recipes$cuisine %in% cuisines_to_keep, ]\n",
    "cuisines_data$cuisine <- as.factor(as.character(cuisines_data$cuisine))\n",
    "\n",
    "bamboo_tree <- rpart(formula=cuisine ~ ., data=cuisines_data, method =\"class\")\n",
    "\n",
    "print(\"Decision tree model saved to bamboo_tree!\")"
   ]
  },
  {
   "cell_type": "markdown",
   "metadata": {
    "deletable": true,
    "editable": true
   },
   "source": [
    "Let's plot the decision tree and examine how it looks like."
   ]
  },
  {
   "cell_type": "code",
   "execution_count": null,
   "metadata": {
    "collapsed": false,
    "deletable": true,
    "editable": true
   },
   "outputs": [],
   "source": [
    "# plot bamboo_tree\n",
    "rpart.plot(bamboo_tree, type=3, extra=2, under=TRUE, cex=0.75, varlen=0, faclen=0, Margin=0.03)"
   ]
  },
  {
   "cell_type": "markdown",
   "metadata": {
    "deletable": true,
    "editable": true
   },
   "source": [
    "According to the above decision tree:\n",
    "* If a recipe contains *cumin* and *fish*, then it is most likely a **Thai** recipe.\n",
    "* If a recipe contains *cumin* but no *fish*, then it is most likely an **Indian** recipe.\n",
    "* If a recipe does not contain *cumin* and contains *roasted_sesame_seed*, then it is most likely a **Korean** recipe."
   ]
  },
  {
   "cell_type": "markdown",
   "metadata": {},
   "source": [
    "You can analyze the remaining branches of the tree to come up with similar rules for determining the cuisine of different recipes. "
   ]
  },
  {
   "cell_type": "markdown",
   "metadata": {},
   "source": [
    "Feel free to select another subset of cuisines and build a decision tree of their recipes. You can select some European cuisines and build a decision tree to explore the ingredients that differentiate them."
   ]
  },
  {
   "cell_type": "markdown",
   "metadata": {
    "deletable": true,
    "editable": true
   },
   "source": [
    "# Model Evaluation <a id=\"4\"></a>"
   ]
  },
  {
   "cell_type": "markdown",
   "metadata": {},
   "source": [
    "<img src=\"https://ibm.box.com/shared/static/prc3kksci2a6deks36jpyf4cf4oxh74a.png\" width=500>"
   ]
  },
  {
   "cell_type": "markdown",
   "metadata": {},
   "source": [
    "To evaluate our model of Asian and Indian cuisines, we will split our dataset into a training set and a test set. We will build the decision tree using the training set. Then, we will test the model on the test set and compare the cuisines that the model predicts to the actual cuisines. "
   ]
  },
  {
   "cell_type": "markdown",
   "metadata": {
    "deletable": true,
    "editable": true
   },
   "source": [
    "Let's first create a new dataframe using only the data pertaining to the Asian and Indian cuisines, and let's call the new dataframe **bamboo**."
   ]
  },
  {
   "cell_type": "code",
   "execution_count": null,
   "metadata": {
    "collapsed": false,
    "deletable": true,
    "editable": true
   },
   "outputs": [],
   "source": [
    "bamboo <- recipes[recipes$cuisine %in% c(\"korean\", \"japanese\", \"chinese\", \"thai\", \"indian\"),]"
   ]
  },
  {
   "cell_type": "markdown",
   "metadata": {
    "deletable": true,
    "editable": true
   },
   "source": [
    "Let's see how many recipes exist for each cuisine."
   ]
  },
  {
   "cell_type": "code",
   "execution_count": null,
   "metadata": {
    "collapsed": false,
    "deletable": true,
    "editable": true
   },
   "outputs": [],
   "source": [
    "base::table(as.factor(as.character(bamboo$cuisine)))"
   ]
  },
  {
   "cell_type": "markdown",
   "metadata": {
    "deletable": true,
    "editable": true
   },
   "source": [
    "Let's remove 30 recipes from each cuisine to use as the test set, and let's name this set **bamboo_test**."
   ]
  },
  {
   "cell_type": "code",
   "execution_count": null,
   "metadata": {
    "collapsed": false,
    "deletable": true,
    "editable": true
   },
   "outputs": [],
   "source": [
    "# set sample size\n",
    "sample_n <- 30"
   ]
  },
  {
   "cell_type": "markdown",
   "metadata": {
    "deletable": true,
    "editable": true
   },
   "source": [
    "Create a dataframe containing 30 recipes from each cuisine, selected randomly."
   ]
  },
  {
   "cell_type": "code",
   "execution_count": null,
   "metadata": {
    "collapsed": false,
    "deletable": true,
    "editable": true
   },
   "outputs": [],
   "source": [
    "# take 30 recipes from each cuisine\n",
    "set.seed(4) # set random seed\n",
    "korean <- bamboo[base::sample(which(bamboo$cuisine == \"korean\") , sample_n), ]\n",
    "japanese <- bamboo[base::sample(which(bamboo$cuisine == \"japanese\") , sample_n), ]\n",
    "chinese <- bamboo[base::sample(which(bamboo$cuisine == \"chinese\") , sample_n), ]\n",
    "thai <- bamboo[base::sample(which(bamboo$cuisine == \"thai\") , sample_n), ]\n",
    "indian <- bamboo[base::sample(which(bamboo$cuisine == \"indian\") , sample_n), ]\n",
    "\n",
    "# create the dataframe\n",
    "bamboo_test <- rbind(korean, japanese, chinese, thai, indian)"
   ]
  },
  {
   "cell_type": "markdown",
   "metadata": {
    "deletable": true,
    "editable": true
   },
   "source": [
    "Check that there are 30 recipes for each cuisine."
   ]
  },
  {
   "cell_type": "code",
   "execution_count": null,
   "metadata": {
    "collapsed": false,
    "deletable": true,
    "editable": true
   },
   "outputs": [],
   "source": [
    "# check that we have 30 recipes from each cuisine\n",
    "base::table(as.factor(as.character(bamboo_test$cuisine)))"
   ]
  },
  {
   "cell_type": "markdown",
   "metadata": {
    "deletable": true,
    "editable": true
   },
   "source": [
    "Next, let's create the training set by removing the test set from the **bamboo** dataset, and let's call this set **bamboo_train**."
   ]
  },
  {
   "cell_type": "code",
   "execution_count": null,
   "metadata": {
    "collapsed": false,
    "deletable": true,
    "editable": true
   },
   "outputs": [],
   "source": [
    "bamboo_train <- bamboo[!(rownames(bamboo) %in% rownames(bamboo_test)),]\n",
    "bamboo_train$cuisine <- as.factor(as.character(bamboo_train$cuisine))"
   ]
  },
  {
   "cell_type": "markdown",
   "metadata": {
    "deletable": true,
    "editable": true
   },
   "source": [
    "Check that there are 30 _fewer_ recipes now for each cuisine."
   ]
  },
  {
   "cell_type": "code",
   "execution_count": null,
   "metadata": {
    "collapsed": false,
    "deletable": true,
    "editable": true
   },
   "outputs": [],
   "source": [
    "base::table(bamboo_train$cuisine)"
   ]
  },
  {
   "cell_type": "markdown",
   "metadata": {
    "deletable": true,
    "editable": true
   },
   "source": [
    "Let's build the decision tree using the training set, **bamboo_train**, and name the generated tree **bamboo_tree_pred** for prediction."
   ]
  },
  {
   "cell_type": "code",
   "execution_count": null,
   "metadata": {
    "collapsed": false,
    "deletable": true,
    "editable": true
   },
   "outputs": [],
   "source": [
    "bamboo_train_tree <- rpart(formula=cuisine ~ ., data=bamboo_train, method=\"class\")"
   ]
  },
  {
   "cell_type": "markdown",
   "metadata": {
    "deletable": true,
    "editable": true
   },
   "source": [
    "Let's plot the decision tree and explore it."
   ]
  },
  {
   "cell_type": "code",
   "execution_count": null,
   "metadata": {
    "collapsed": false,
    "deletable": true,
    "editable": true
   },
   "outputs": [],
   "source": [
    "rpart.plot(bamboo_train_tree, type=3, extra=0, under=TRUE, cex=0.75, varlen=0, faclen=0, Margin=0.03)"
   ]
  },
  {
   "cell_type": "markdown",
   "metadata": {
    "deletable": true,
    "editable": true
   },
   "source": [
    "It is obvious how removing 30 recipes from each cuisine resulted in more decisions in the tree."
   ]
  },
  {
   "cell_type": "markdown",
   "metadata": {},
   "source": [
    "#### Now let's test our model on the test data."
   ]
  },
  {
   "cell_type": "code",
   "execution_count": null,
   "metadata": {
    "collapsed": false,
    "deletable": true,
    "editable": true
   },
   "outputs": [],
   "source": [
    "bamboo_pred_cuisines <- predict(bamboo_train_tree, subset(bamboo_test, select=-c(cuisine)), type=\"class\")"
   ]
  },
  {
   "cell_type": "markdown",
   "metadata": {
    "deletable": true,
    "editable": true
   },
   "source": [
    "To quantify how well the decision tree is able to determine the cuisine of each recipe correctly, we will create a confusion matrix which presents a nice summary on how many recipes from each cuisine are correctly classified. It also sheds some light on what cuisines are being confused with what other cuisines."
   ]
  },
  {
   "cell_type": "markdown",
   "metadata": {},
   "source": [
    "So let's go ahead and create the confusion matrix for how well the decision tree is able to correctly classify the recipes in **bamboo_test**."
   ]
  },
  {
   "cell_type": "code",
   "execution_count": null,
   "metadata": {
    "collapsed": false,
    "deletable": true,
    "editable": true,
    "scrolled": true
   },
   "outputs": [],
   "source": [
    "bamboo_confusion_matrix <- base::table(\n",
    "    paste(as.character(bamboo_test$cuisine),\"_true\", sep=\"\"),\n",
    "    paste(as.character(bamboo_pred_cuisines),\"_pred\", sep=\"\")\n",
    ")\n",
    "\n",
    "round(prop.table(bamboo_confusion_matrix, 1)*100, 1)"
   ]
  },
  {
   "cell_type": "markdown",
   "metadata": {},
   "source": [
    "The rows represent the actual cuisines from the dataset and the columns represent the predicted ones. Each row should sum to 100%. We make the following observations:\n",
    "\n",
    "* Using the first row in the confusion matrix, 60% of the **Chinese** recipes in **bamboo_test** were correctly classified by our decision tree whereas 36.7% of the **Chinese** recipes were misclassified as **Korean** and 3.3% were misclassified as **Japenese**.\n",
    "\n",
    "* Using the Indian row, 90% of the **Indian** recipes in **bamboo_test** were correctly classified by our decision tree and 10% of the **Indian** recipes were misclassified as **Korean**."
   ]
  },
  {
   "cell_type": "markdown",
   "metadata": {},
   "source": [
    "How many **Japanese** recipes were correctly classified by our decision tree?"
   ]
  },
  {
   "cell_type": "raw",
   "metadata": {},
   "source": [
    "Your Answer:"
   ]
  },
  {
   "cell_type": "markdown",
   "metadata": {},
   "source": [
    "Double-click __here__ for the solution.\n",
    "<!-- The correct answer is:\n",
    "33.3%.\n",
    "-->"
   ]
  },
  {
   "cell_type": "markdown",
   "metadata": {},
   "source": [
    "How many **Korean** recipes were misclassified as **Japanese**?"
   ]
  },
  {
   "cell_type": "raw",
   "metadata": {},
   "source": [
    "Your Answer:"
   ]
  },
  {
   "cell_type": "markdown",
   "metadata": {},
   "source": [
    "Double-click __here__ for the solution.\n",
    "<!-- The correct answer is:\n",
    "16.7%.\n",
    "-->"
   ]
  },
  {
   "cell_type": "markdown",
   "metadata": {},
   "source": [
    "What cuisine has the least number of recipes correctly classified by the decision tree?"
   ]
  },
  {
   "cell_type": "raw",
   "metadata": {},
   "source": [
    "Your Answer:"
   ]
  },
  {
   "cell_type": "markdown",
   "metadata": {},
   "source": [
    "Double-click __here__ for the solution.\n",
    "<!-- The correct answer is:\n",
    "Japanese cuisine, with 33.3% only.\n",
    "-->"
   ]
  },
  {
   "cell_type": "markdown",
   "metadata": {
    "deletable": true,
    "editable": true
   },
   "source": [
    "<br>\n",
    "<hr>"
   ]
  },
  {
   "cell_type": "markdown",
   "metadata": {},
   "source": [
    "### Thank you for completing this lab!\n",
    "\n",
    "This notebook was created by [Polong Lin](https://ca.linkedin.com/in/polonglin) and [Alex Aklson](https://www.linkedin.com/in/aklson/). We hope you found this lab session interesting. Feel free to contact us if you have any questions!"
   ]
  },
  {
   "cell_type": "markdown",
   "metadata": {},
   "source": [
    "This notebook is part of the free course on **Cognitive Class** called *Data Science Methodology*. If you accessed this notebook outside the course, you can take this free self-paced course, online by clicking [here](http://cocl.us/DS0103EN_LAB4_R)."
   ]
  },
  {
   "cell_type": "markdown",
   "metadata": {},
   "source": [
    "<hr>\n",
    "Copyright &copy; 2018 [Cognitive Class](https://cognitiveclass.ai/?utm_source=bducopyrightlink&utm_medium=dswb&utm_campaign=bdu). This notebook and its source code are released under the terms of the [MIT License](https://bigdatauniversity.com/mit-license/)."
   ]
  }
 ],
 "metadata": {
  "kernelspec": {
   "display_name": "R",
   "language": "R",
   "name": "ir"
  },
  "language_info": {
   "codemirror_mode": "r",
   "file_extension": ".r",
   "mimetype": "text/x-r-source",
   "name": "R",
   "pygments_lexer": "r",
   "version": "3.3.2"
  },
  "widgets": {
   "state": {},
   "version": "1.1.2"
  }
 },
 "nbformat": 4,
 "nbformat_minor": 2
}
