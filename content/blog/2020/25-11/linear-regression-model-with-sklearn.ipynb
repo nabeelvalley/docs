{
 "cells": [
  {
   "cell_type": "code",
   "execution_count": 1,
   "metadata": {
    "execution": {
     "iopub.execute_input": "2020-11-25T14:15:57.160680Z",
     "iopub.status.busy": "2020-11-25T14:15:57.159762Z",
     "iopub.status.idle": "2020-11-25T14:15:58.438004Z",
     "shell.execute_reply": "2020-11-25T14:15:58.438642Z"
    },
    "papermill": {
     "duration": 1.295154,
     "end_time": "2020-11-25T14:15:58.438846",
     "exception": false,
     "start_time": "2020-11-25T14:15:57.143692",
     "status": "completed"
    },
    "tags": []
   },
   "outputs": [
    {
     "data": {
      "text/html": [
       "<div>\n",
       "<style scoped>\n",
       "    .dataframe tbody tr th:only-of-type {\n",
       "        vertical-align: middle;\n",
       "    }\n",
       "\n",
       "    .dataframe tbody tr th {\n",
       "        vertical-align: top;\n",
       "    }\n",
       "\n",
       "    .dataframe thead th {\n",
       "        text-align: right;\n",
       "    }\n",
       "</style>\n",
       "<table border=\"1\" class=\"dataframe\">\n",
       "  <thead>\n",
       "    <tr style=\"text-align: right;\">\n",
       "      <th></th>\n",
       "      <th>sepal_length</th>\n",
       "      <th>sepal_width</th>\n",
       "      <th>petal_length</th>\n",
       "      <th>petal_width</th>\n",
       "      <th>species</th>\n",
       "    </tr>\n",
       "  </thead>\n",
       "  <tbody>\n",
       "    <tr>\n",
       "      <th>0</th>\n",
       "      <td>5.1</td>\n",
       "      <td>3.5</td>\n",
       "      <td>1.4</td>\n",
       "      <td>0.2</td>\n",
       "      <td>Iris-setosa</td>\n",
       "    </tr>\n",
       "  </tbody>\n",
       "</table>\n",
       "</div>"
      ],
      "text/plain": [
       "   sepal_length  sepal_width  petal_length  petal_width      species\n",
       "0           5.1          3.5           1.4          0.2  Iris-setosa"
      ]
     },
     "execution_count": 1,
     "metadata": {},
     "output_type": "execute_result"
    }
   ],
   "source": [
    "import pandas as pd\n",
    "import seaborn as sns\n",
    "\n",
    "DATA_PATH = '../input/iris-flower-dataset/IRIS.csv'\n",
    "\n",
    "df = pd.read_csv(DATA_PATH)\n",
    "\n",
    "df.head(1)"
   ]
  },
  {
   "cell_type": "markdown",
   "metadata": {
    "papermill": {
     "duration": 0.008301,
     "end_time": "2020-11-25T14:15:58.456652",
     "exception": false,
     "start_time": "2020-11-25T14:15:58.448351",
     "status": "completed"
    },
    "tags": []
   },
   "source": [
    "A Linear Regression model tries to fit a straight line to the given data set, to train a linear regression model with `sklearn` you will need to first split the data into `x` and `y` components:\n"
   ]
  },
  {
   "cell_type": "code",
   "execution_count": 2,
   "metadata": {
    "execution": {
     "iopub.execute_input": "2020-11-25T14:15:58.484480Z",
     "iopub.status.busy": "2020-11-25T14:15:58.483571Z",
     "iopub.status.idle": "2020-11-25T14:15:58.487092Z",
     "shell.execute_reply": "2020-11-25T14:15:58.486338Z"
    },
    "papermill": {
     "duration": 0.022027,
     "end_time": "2020-11-25T14:15:58.487228",
     "exception": false,
     "start_time": "2020-11-25T14:15:58.465201",
     "status": "completed"
    },
    "tags": []
   },
   "outputs": [],
   "source": [
    "x_labels = ['sepal_length', 'petal_width']\n",
    "y_labels = ['petal_length']\n",
    "\n",
    "np_x = df[x_labels].to_numpy()\n",
    "np_y = df[y_labels].transpose().to_numpy()[0]"
   ]
  },
  {
   "cell_type": "markdown",
   "metadata": {
    "papermill": {
     "duration": 0.008472,
     "end_time": "2020-11-25T14:15:58.504628",
     "exception": false,
     "start_time": "2020-11-25T14:15:58.496156",
     "status": "completed"
    },
    "tags": []
   },
   "source": [
    "Next, we need to split our training and testing data"
   ]
  },
  {
   "cell_type": "code",
   "execution_count": 3,
   "metadata": {
    "execution": {
     "iopub.execute_input": "2020-11-25T14:15:58.528923Z",
     "iopub.status.busy": "2020-11-25T14:15:58.528110Z",
     "iopub.status.idle": "2020-11-25T14:15:58.660824Z",
     "shell.execute_reply": "2020-11-25T14:15:58.659938Z"
    },
    "papermill": {
     "duration": 0.147418,
     "end_time": "2020-11-25T14:15:58.660979",
     "exception": false,
     "start_time": "2020-11-25T14:15:58.513561",
     "status": "completed"
    },
    "tags": []
   },
   "outputs": [],
   "source": [
    "from sklearn.model_selection import train_test_split\n",
    "\n",
    "x_train, x_test, y_train, y_test = train_test_split(np_x, np_y)"
   ]
  },
  {
   "cell_type": "markdown",
   "metadata": {
    "papermill": {
     "duration": 0.008605,
     "end_time": "2020-11-25T14:15:58.680911",
     "exception": false,
     "start_time": "2020-11-25T14:15:58.672306",
     "status": "completed"
    },
    "tags": []
   },
   "source": [
    "Once we've got our data split into `test` and `train` sets, we can train our model using the `test` data using the `fit` function of the `LinearRegression` model"
   ]
  },
  {
   "cell_type": "code",
   "execution_count": 4,
   "metadata": {
    "execution": {
     "iopub.execute_input": "2020-11-25T14:15:58.712907Z",
     "iopub.status.busy": "2020-11-25T14:15:58.710718Z",
     "iopub.status.idle": "2020-11-25T14:15:58.932255Z",
     "shell.execute_reply": "2020-11-25T14:15:58.930194Z"
    },
    "papermill": {
     "duration": 0.242616,
     "end_time": "2020-11-25T14:15:58.932542",
     "exception": false,
     "start_time": "2020-11-25T14:15:58.689926",
     "status": "completed"
    },
    "tags": []
   },
   "outputs": [],
   "source": [
    "from sklearn.linear_model import LinearRegression\n",
    "\n",
    "model = LinearRegression().fit(x_train, y_train)"
   ]
  },
  {
   "cell_type": "markdown",
   "metadata": {
    "papermill": {
     "duration": 0.015089,
     "end_time": "2020-11-25T14:15:58.963415",
     "exception": false,
     "start_time": "2020-11-25T14:15:58.948326",
     "status": "completed"
    },
    "tags": []
   },
   "source": [
    "Lastly, we can use `model.score` to get the $R^2$ value for the model"
   ]
  },
  {
   "cell_type": "code",
   "execution_count": 5,
   "metadata": {
    "execution": {
     "iopub.execute_input": "2020-11-25T14:15:58.998196Z",
     "iopub.status.busy": "2020-11-25T14:15:58.997079Z",
     "iopub.status.idle": "2020-11-25T14:15:59.001277Z",
     "shell.execute_reply": "2020-11-25T14:15:59.002075Z"
    },
    "papermill": {
     "duration": 0.024152,
     "end_time": "2020-11-25T14:15:59.002263",
     "exception": false,
     "start_time": "2020-11-25T14:15:58.978111",
     "status": "completed"
    },
    "tags": []
   },
   "outputs": [
    {
     "data": {
      "text/plain": [
       "0.931396085809373"
      ]
     },
     "execution_count": 5,
     "metadata": {},
     "output_type": "execute_result"
    }
   ],
   "source": [
    "model.score(x_test, y_test)"
   ]
  },
  {
   "cell_type": "markdown",
   "metadata": {
    "papermill": {
     "duration": 0.01061,
     "end_time": "2020-11-25T14:15:59.023994",
     "exception": false,
     "start_time": "2020-11-25T14:15:59.013384",
     "status": "completed"
    },
    "tags": []
   },
   "source": [
    "> You can find out more about how the `LinearRegression` model works [in the Sklearn Docs](https://scikit-learn.org/stable/modules/generated/sklearn.linear_model.LinearRegression.html), and you can find an interactive version of this notebook [on Kaggle](https://www.kaggle.com/nabeelvalley/linear-regression-model-with-sklearn)"
   ]
  }
 ],
 "metadata": {
  "kernelspec": {
   "display_name": "Python 3",
   "language": "python",
   "name": "python3"
  },
  "language_info": {
   "codemirror_mode": {
    "name": "ipython",
    "version": 3
   },
   "file_extension": ".py",
   "mimetype": "text/x-python",
   "name": "python",
   "nbconvert_exporter": "python",
   "pygments_lexer": "ipython3",
   "version": "3.7.6"
  },
  "papermill": {
   "duration": 7.504575,
   "end_time": "2020-11-25T14:15:59.148851",
   "environment_variables": {},
   "exception": null,
   "input_path": "__notebook__.ipynb",
   "output_path": "__notebook__.ipynb",
   "parameters": {},
   "start_time": "2020-11-25T14:15:51.644276",
   "version": "2.1.0"
  }
 },
 "nbformat": 4,
 "nbformat_minor": 4
}
