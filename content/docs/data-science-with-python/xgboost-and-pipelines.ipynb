{
 "nbformat": 4,
 "nbformat_minor": 2,
 "metadata": {
  "language_info": {
   "name": "python",
   "codemirror_mode": {
    "name": "ipython",
    "version": 3
   },
   "version": "3.6.4-final"
  },
  "orig_nbformat": 2,
  "file_extension": ".py",
  "mimetype": "text/x-python",
  "name": "python",
  "npconvert_exporter": "python",
  "pygments_lexer": "ipython3",
  "version": 3,
  "kernelspec": {
   "name": "python3",
   "display_name": "Python 3"
  }
 },
 "cells": [
  {
   "cell_type": "markdown",
   "metadata": {},
   "source": [
    "# Data Pipelines and XGBoost\n",
    "\n",
    "- https://www.kaggle.com/alexisbcook/pipelines\n",
    "- https://www.kaggle.com/alexisbcook/xgboost\n",
    "\n",
    "> Data from [Kaggle](https://www.kaggle.com/iabhishekofficial/mobile-price-classification#train.csv)"
   ]
  },
  {
   "cell_type": "markdown",
   "metadata": {},
   "source": [
    "# Pipelines"
   ]
  },
  {
   "cell_type": "code",
   "execution_count": 28,
   "metadata": {},
   "outputs": [],
   "source": [
    "import pandas as pd\n",
    "\n",
    "from xgboost import XGBRegressor\n",
    "\n",
    "from sklearn.model_selection import train_test_split, cross_val_score\n",
    "from sklearn.pipeline import Pipeline\n",
    "from sklearn.impute import SimpleImputer\n",
    "from sklearn.preprocessing import OneHotEncoder\n",
    "from sklearn.compose import ColumnTransformer\n",
    "from sklearn.ensemble import RandomForestRegressor\n",
    "from sklearn.metrics import mean_absolute_error\n",
    "\n",
    "\n",
    "pd.set_option('display.max_columns', 100)\n",
    "pd.set_option('display.max_rows', 100)"
   ]
  },
  {
   "cell_type": "code",
   "execution_count": 6,
   "metadata": {},
   "outputs": [],
   "source": [
    "DATA_FILE = 'sample-data/mobile-price-classification/train.csv'"
   ]
  },
  {
   "cell_type": "markdown",
   "metadata": {},
   "source": [
    "## Import Data"
   ]
  },
  {
   "cell_type": "code",
   "execution_count": 7,
   "metadata": {},
   "outputs": [],
   "source": [
    "df = pd.read_csv(DATA_FILE)"
   ]
  },
  {
   "cell_type": "code",
   "execution_count": 8,
   "metadata": {},
   "outputs": [
    {
     "data": {
      "text/html": "<div>\n<style scoped>\n    .dataframe tbody tr th:only-of-type {\n        vertical-align: middle;\n    }\n\n    .dataframe tbody tr th {\n        vertical-align: top;\n    }\n\n    .dataframe thead th {\n        text-align: right;\n    }\n</style>\n<table border=\"1\" class=\"dataframe\">\n  <thead>\n    <tr style=\"text-align: right;\">\n      <th></th>\n      <th>battery_power</th>\n      <th>blue</th>\n      <th>clock_speed</th>\n      <th>dual_sim</th>\n      <th>fc</th>\n      <th>four_g</th>\n      <th>int_memory</th>\n      <th>m_dep</th>\n      <th>mobile_wt</th>\n      <th>n_cores</th>\n      <th>pc</th>\n      <th>px_height</th>\n      <th>px_width</th>\n      <th>ram</th>\n      <th>sc_h</th>\n      <th>sc_w</th>\n      <th>talk_time</th>\n      <th>three_g</th>\n      <th>touch_screen</th>\n      <th>wifi</th>\n      <th>price_range</th>\n    </tr>\n  </thead>\n  <tbody>\n    <tr>\n      <th>0</th>\n      <td>842</td>\n      <td>0</td>\n      <td>2.2</td>\n      <td>0</td>\n      <td>1</td>\n      <td>0</td>\n      <td>7</td>\n      <td>0.6</td>\n      <td>188</td>\n      <td>2</td>\n      <td>2</td>\n      <td>20</td>\n      <td>756</td>\n      <td>2549</td>\n      <td>9</td>\n      <td>7</td>\n      <td>19</td>\n      <td>0</td>\n      <td>0</td>\n      <td>1</td>\n      <td>1</td>\n    </tr>\n    <tr>\n      <th>1</th>\n      <td>1021</td>\n      <td>1</td>\n      <td>0.5</td>\n      <td>1</td>\n      <td>0</td>\n      <td>1</td>\n      <td>53</td>\n      <td>0.7</td>\n      <td>136</td>\n      <td>3</td>\n      <td>6</td>\n      <td>905</td>\n      <td>1988</td>\n      <td>2631</td>\n      <td>17</td>\n      <td>3</td>\n      <td>7</td>\n      <td>1</td>\n      <td>1</td>\n      <td>0</td>\n      <td>2</td>\n    </tr>\n    <tr>\n      <th>2</th>\n      <td>563</td>\n      <td>1</td>\n      <td>0.5</td>\n      <td>1</td>\n      <td>2</td>\n      <td>1</td>\n      <td>41</td>\n      <td>0.9</td>\n      <td>145</td>\n      <td>5</td>\n      <td>6</td>\n      <td>1263</td>\n      <td>1716</td>\n      <td>2603</td>\n      <td>11</td>\n      <td>2</td>\n      <td>9</td>\n      <td>1</td>\n      <td>1</td>\n      <td>0</td>\n      <td>2</td>\n    </tr>\n    <tr>\n      <th>3</th>\n      <td>615</td>\n      <td>1</td>\n      <td>2.5</td>\n      <td>0</td>\n      <td>0</td>\n      <td>0</td>\n      <td>10</td>\n      <td>0.8</td>\n      <td>131</td>\n      <td>6</td>\n      <td>9</td>\n      <td>1216</td>\n      <td>1786</td>\n      <td>2769</td>\n      <td>16</td>\n      <td>8</td>\n      <td>11</td>\n      <td>1</td>\n      <td>0</td>\n      <td>0</td>\n      <td>2</td>\n    </tr>\n    <tr>\n      <th>4</th>\n      <td>1821</td>\n      <td>1</td>\n      <td>1.2</td>\n      <td>0</td>\n      <td>13</td>\n      <td>1</td>\n      <td>44</td>\n      <td>0.6</td>\n      <td>141</td>\n      <td>2</td>\n      <td>14</td>\n      <td>1208</td>\n      <td>1212</td>\n      <td>1411</td>\n      <td>8</td>\n      <td>2</td>\n      <td>15</td>\n      <td>1</td>\n      <td>1</td>\n      <td>0</td>\n      <td>1</td>\n    </tr>\n  </tbody>\n</table>\n</div>",
      "text/plain": "   battery_power  blue  clock_speed  dual_sim  fc  four_g  int_memory  m_dep  \\\n0            842     0          2.2         0   1       0           7    0.6   \n1           1021     1          0.5         1   0       1          53    0.7   \n2            563     1          0.5         1   2       1          41    0.9   \n3            615     1          2.5         0   0       0          10    0.8   \n4           1821     1          1.2         0  13       1          44    0.6   \n\n   mobile_wt  n_cores  pc  px_height  px_width   ram  sc_h  sc_w  talk_time  \\\n0        188        2   2         20       756  2549     9     7         19   \n1        136        3   6        905      1988  2631    17     3          7   \n2        145        5   6       1263      1716  2603    11     2          9   \n3        131        6   9       1216      1786  2769    16     8         11   \n4        141        2  14       1208      1212  1411     8     2         15   \n\n   three_g  touch_screen  wifi  price_range  \n0        0             0     1            1  \n1        1             1     0            2  \n2        1             1     0            2  \n3        1             0     0            2  \n4        1             1     0            1  "
     },
     "execution_count": 8,
     "metadata": {},
     "output_type": "execute_result"
    }
   ],
   "source": [
    "df.head()"
   ]
  },
  {
   "cell_type": "markdown",
   "metadata": {},
   "source": [
    "## Separate Variables"
   ]
  },
  {
   "cell_type": "code",
   "execution_count": 9,
   "metadata": {},
   "outputs": [],
   "source": [
    "X = df.drop('price_range', axis=1)\n",
    "y = df.price_range"
   ]
  },
  {
   "cell_type": "code",
   "execution_count": 10,
   "metadata": {},
   "outputs": [],
   "source": [
    "X_train_full, X_valid_full, y_train, y_valid = train_test_split(X, y, train_size=0.8, test_size=0.2, random_state=0)"
   ]
  },
  {
   "cell_type": "markdown",
   "metadata": {},
   "source": [
    "## Split Data types"
   ]
  },
  {
   "cell_type": "code",
   "execution_count": 11,
   "metadata": {},
   "outputs": [],
   "source": [
    "categorical_cols = [cname for cname in X_train_full.columns if X_train_full[cname].nunique() < 10 and \n",
    "                        X_train_full[cname].dtype == \"object\"]\n",
    "\n",
    "numerical_cols = [cname for cname in X_train_full.columns if X_train_full[cname].dtype in ['int64', 'float64']]"
   ]
  },
  {
   "cell_type": "code",
   "execution_count": 12,
   "metadata": {},
   "outputs": [],
   "source": [
    "my_cols = categorical_cols + numerical_cols\n",
    "\n",
    "X_train = X_train_full[my_cols].copy()\n",
    "X_valid = X_valid_full[my_cols].copy()"
   ]
  },
  {
   "cell_type": "code",
   "execution_count": 13,
   "metadata": {},
   "outputs": [
    {
     "data": {
      "text/html": "<div>\n<style scoped>\n    .dataframe tbody tr th:only-of-type {\n        vertical-align: middle;\n    }\n\n    .dataframe tbody tr th {\n        vertical-align: top;\n    }\n\n    .dataframe thead th {\n        text-align: right;\n    }\n</style>\n<table border=\"1\" class=\"dataframe\">\n  <thead>\n    <tr style=\"text-align: right;\">\n      <th></th>\n      <th>battery_power</th>\n      <th>blue</th>\n      <th>clock_speed</th>\n      <th>dual_sim</th>\n      <th>fc</th>\n      <th>four_g</th>\n      <th>int_memory</th>\n      <th>m_dep</th>\n      <th>mobile_wt</th>\n      <th>n_cores</th>\n      <th>pc</th>\n      <th>px_height</th>\n      <th>px_width</th>\n      <th>ram</th>\n      <th>sc_h</th>\n      <th>sc_w</th>\n      <th>talk_time</th>\n      <th>three_g</th>\n      <th>touch_screen</th>\n      <th>wifi</th>\n    </tr>\n  </thead>\n  <tbody>\n    <tr>\n      <th>582</th>\n      <td>1232</td>\n      <td>0</td>\n      <td>2.9</td>\n      <td>1</td>\n      <td>1</td>\n      <td>1</td>\n      <td>24</td>\n      <td>0.3</td>\n      <td>169</td>\n      <td>5</td>\n      <td>17</td>\n      <td>361</td>\n      <td>809</td>\n      <td>1257</td>\n      <td>16</td>\n      <td>10</td>\n      <td>16</td>\n      <td>1</td>\n      <td>0</td>\n      <td>0</td>\n    </tr>\n    <tr>\n      <th>159</th>\n      <td>1840</td>\n      <td>0</td>\n      <td>0.5</td>\n      <td>1</td>\n      <td>12</td>\n      <td>0</td>\n      <td>34</td>\n      <td>0.7</td>\n      <td>142</td>\n      <td>1</td>\n      <td>16</td>\n      <td>311</td>\n      <td>1545</td>\n      <td>1078</td>\n      <td>8</td>\n      <td>0</td>\n      <td>10</td>\n      <td>0</td>\n      <td>0</td>\n      <td>0</td>\n    </tr>\n    <tr>\n      <th>1827</th>\n      <td>1692</td>\n      <td>0</td>\n      <td>2.1</td>\n      <td>0</td>\n      <td>4</td>\n      <td>1</td>\n      <td>2</td>\n      <td>0.9</td>\n      <td>106</td>\n      <td>1</td>\n      <td>17</td>\n      <td>1899</td>\n      <td>1904</td>\n      <td>3779</td>\n      <td>9</td>\n      <td>3</td>\n      <td>7</td>\n      <td>1</td>\n      <td>1</td>\n      <td>1</td>\n    </tr>\n    <tr>\n      <th>318</th>\n      <td>508</td>\n      <td>0</td>\n      <td>0.8</td>\n      <td>0</td>\n      <td>7</td>\n      <td>1</td>\n      <td>42</td>\n      <td>0.3</td>\n      <td>94</td>\n      <td>1</td>\n      <td>8</td>\n      <td>39</td>\n      <td>557</td>\n      <td>663</td>\n      <td>13</td>\n      <td>12</td>\n      <td>7</td>\n      <td>1</td>\n      <td>0</td>\n      <td>0</td>\n    </tr>\n    <tr>\n      <th>708</th>\n      <td>977</td>\n      <td>1</td>\n      <td>2.8</td>\n      <td>1</td>\n      <td>2</td>\n      <td>0</td>\n      <td>35</td>\n      <td>0.6</td>\n      <td>165</td>\n      <td>2</td>\n      <td>15</td>\n      <td>1502</td>\n      <td>1862</td>\n      <td>3714</td>\n      <td>19</td>\n      <td>3</td>\n      <td>10</td>\n      <td>0</td>\n      <td>1</td>\n      <td>1</td>\n    </tr>\n  </tbody>\n</table>\n</div>",
      "text/plain": "      battery_power  blue  clock_speed  dual_sim  fc  four_g  int_memory  \\\n582            1232     0          2.9         1   1       1          24   \n159            1840     0          0.5         1  12       0          34   \n1827           1692     0          2.1         0   4       1           2   \n318             508     0          0.8         0   7       1          42   \n708             977     1          2.8         1   2       0          35   \n\n      m_dep  mobile_wt  n_cores  pc  px_height  px_width   ram  sc_h  sc_w  \\\n582     0.3        169        5  17        361       809  1257    16    10   \n159     0.7        142        1  16        311      1545  1078     8     0   \n1827    0.9        106        1  17       1899      1904  3779     9     3   \n318     0.3         94        1   8         39       557   663    13    12   \n708     0.6        165        2  15       1502      1862  3714    19     3   \n\n      talk_time  three_g  touch_screen  wifi  \n582          16        1             0     0  \n159          10        0             0     0  \n1827          7        1             1     1  \n318           7        1             0     0  \n708          10        0             1     1  "
     },
     "execution_count": 13,
     "metadata": {},
     "output_type": "execute_result"
    }
   ],
   "source": [
    "X_train.head()"
   ]
  },
  {
   "cell_type": "markdown",
   "metadata": {},
   "source": [
    "## Create Transformers for the diferent types of data"
   ]
  },
  {
   "cell_type": "code",
   "execution_count": 14,
   "metadata": {},
   "outputs": [],
   "source": [
    "numerical_transformer = SimpleImputer(strategy='constant')\n",
    "\n",
    "\n",
    "categorical_transformer = Pipeline(steps=[\n",
    "    ('imputer', SimpleImputer(strategy='most_frequent')),\n",
    "    ('onehot', OneHotEncoder(handle_unknown='ignore'))\n",
    "])"
   ]
  },
  {
   "cell_type": "markdown",
   "metadata": {},
   "source": [
    "## Add these transformers to a Preprocessor"
   ]
  },
  {
   "cell_type": "code",
   "execution_count": 15,
   "metadata": {},
   "outputs": [],
   "source": [
    "preprocessor = ColumnTransformer(\n",
    "    transformers=[\n",
    "        ('num', numerical_transformer, numerical_cols),\n",
    "        ('cat', categorical_transformer, categorical_cols)\n",
    "    ])"
   ]
  },
  {
   "cell_type": "markdown",
   "metadata": {},
   "source": [
    "## Define Model"
   ]
  },
  {
   "cell_type": "code",
   "execution_count": 16,
   "metadata": {},
   "outputs": [],
   "source": [
    "model = RandomForestRegressor(n_estimators=100, random_state=0)"
   ]
  },
  {
   "cell_type": "markdown",
   "metadata": {},
   "source": [
    "## Create Pipeline"
   ]
  },
  {
   "cell_type": "code",
   "execution_count": 17,
   "metadata": {},
   "outputs": [],
   "source": [
    "pipeline = Pipeline(steps=[('preprocessor', preprocessor),\n",
    "                              ('model', model)])"
   ]
  },
  {
   "cell_type": "markdown",
   "metadata": {},
   "source": [
    "## Run the Pipeline"
   ]
  },
  {
   "cell_type": "code",
   "execution_count": 18,
   "metadata": {},
   "outputs": [
    {
     "data": {
      "text/plain": "Pipeline(memory=None,\n         steps=[('preprocessor',\n                 ColumnTransformer(n_jobs=None, remainder='drop',\n                                   sparse_threshold=0.3,\n                                   transformer_weights=None,\n                                   transformers=[('num',\n                                                  SimpleImputer(add_indicator=False,\n                                                                copy=True,\n                                                                fill_value=None,\n                                                                missing_values=nan,\n                                                                strategy='constant',\n                                                                verbose=0),\n                                                  ['battery_power', 'blue',\n                                                   'clock_speed', 'dual_sim',\n                                                   'fc', 'four_g', 'int_memory',\n                                                   'm_dep...\n                 RandomForestRegressor(bootstrap=True, ccp_alpha=0.0,\n                                       criterion='mse', max_depth=None,\n                                       max_features='auto', max_leaf_nodes=None,\n                                       max_samples=None,\n                                       min_impurity_decrease=0.0,\n                                       min_impurity_split=None,\n                                       min_samples_leaf=1, min_samples_split=2,\n                                       min_weight_fraction_leaf=0.0,\n                                       n_estimators=100, n_jobs=None,\n                                       oob_score=False, random_state=0,\n                                       verbose=0, warm_start=False))],\n         verbose=False)"
     },
     "execution_count": 18,
     "metadata": {},
     "output_type": "execute_result"
    }
   ],
   "source": [
    "pipeline.fit(X_train, y_train)"
   ]
  },
  {
   "cell_type": "code",
   "execution_count": 19,
   "metadata": {},
   "outputs": [],
   "source": [
    "predictions = pipeline.predict(X_valid)"
   ]
  },
  {
   "cell_type": "code",
   "execution_count": 20,
   "metadata": {},
   "outputs": [
    {
     "data": {
      "text/html": "<div>\n<style scoped>\n    .dataframe tbody tr th:only-of-type {\n        vertical-align: middle;\n    }\n\n    .dataframe tbody tr th {\n        vertical-align: top;\n    }\n\n    .dataframe thead th {\n        text-align: right;\n    }\n</style>\n<table border=\"1\" class=\"dataframe\">\n  <thead>\n    <tr style=\"text-align: right;\">\n      <th></th>\n      <th>battery_power</th>\n      <th>blue</th>\n      <th>clock_speed</th>\n      <th>dual_sim</th>\n      <th>fc</th>\n      <th>four_g</th>\n      <th>int_memory</th>\n      <th>m_dep</th>\n      <th>mobile_wt</th>\n      <th>n_cores</th>\n      <th>pc</th>\n      <th>px_height</th>\n      <th>px_width</th>\n      <th>ram</th>\n      <th>sc_h</th>\n      <th>sc_w</th>\n      <th>talk_time</th>\n      <th>three_g</th>\n      <th>touch_screen</th>\n      <th>wifi</th>\n      <th>predicted</th>\n      <th>actual</th>\n      <th>diff</th>\n    </tr>\n  </thead>\n  <tbody>\n    <tr>\n      <th>405</th>\n      <td>1454</td>\n      <td>1</td>\n      <td>0.5</td>\n      <td>1</td>\n      <td>1</td>\n      <td>0</td>\n      <td>34</td>\n      <td>0.7</td>\n      <td>83</td>\n      <td>4</td>\n      <td>3</td>\n      <td>250</td>\n      <td>1033</td>\n      <td>3419</td>\n      <td>7</td>\n      <td>5</td>\n      <td>5</td>\n      <td>1</td>\n      <td>1</td>\n      <td>0</td>\n      <td>2.98</td>\n      <td>3</td>\n      <td>0.02</td>\n    </tr>\n    <tr>\n      <th>1190</th>\n      <td>1092</td>\n      <td>1</td>\n      <td>0.5</td>\n      <td>1</td>\n      <td>10</td>\n      <td>0</td>\n      <td>11</td>\n      <td>0.5</td>\n      <td>167</td>\n      <td>3</td>\n      <td>14</td>\n      <td>468</td>\n      <td>571</td>\n      <td>737</td>\n      <td>14</td>\n      <td>4</td>\n      <td>11</td>\n      <td>0</td>\n      <td>1</td>\n      <td>0</td>\n      <td>0.00</td>\n      <td>0</td>\n      <td>0.00</td>\n    </tr>\n    <tr>\n      <th>1132</th>\n      <td>1524</td>\n      <td>1</td>\n      <td>1.8</td>\n      <td>1</td>\n      <td>0</td>\n      <td>0</td>\n      <td>10</td>\n      <td>0.6</td>\n      <td>174</td>\n      <td>4</td>\n      <td>1</td>\n      <td>154</td>\n      <td>550</td>\n      <td>2678</td>\n      <td>16</td>\n      <td>5</td>\n      <td>13</td>\n      <td>1</td>\n      <td>0</td>\n      <td>1</td>\n      <td>1.97</td>\n      <td>2</td>\n      <td>0.03</td>\n    </tr>\n    <tr>\n      <th>731</th>\n      <td>1807</td>\n      <td>1</td>\n      <td>2.1</td>\n      <td>0</td>\n      <td>2</td>\n      <td>0</td>\n      <td>49</td>\n      <td>0.8</td>\n      <td>125</td>\n      <td>1</td>\n      <td>10</td>\n      <td>337</td>\n      <td>1384</td>\n      <td>1906</td>\n      <td>17</td>\n      <td>13</td>\n      <td>13</td>\n      <td>0</td>\n      <td>1</td>\n      <td>1</td>\n      <td>1.69</td>\n      <td>2</td>\n      <td>0.31</td>\n    </tr>\n    <tr>\n      <th>1754</th>\n      <td>1086</td>\n      <td>1</td>\n      <td>1.7</td>\n      <td>1</td>\n      <td>0</td>\n      <td>1</td>\n      <td>43</td>\n      <td>0.2</td>\n      <td>111</td>\n      <td>6</td>\n      <td>1</td>\n      <td>56</td>\n      <td>1150</td>\n      <td>3285</td>\n      <td>11</td>\n      <td>5</td>\n      <td>17</td>\n      <td>1</td>\n      <td>1</td>\n      <td>0</td>\n      <td>2.70</td>\n      <td>2</td>\n      <td>0.70</td>\n    </tr>\n    <tr>\n      <th>1178</th>\n      <td>909</td>\n      <td>1</td>\n      <td>0.5</td>\n      <td>1</td>\n      <td>9</td>\n      <td>0</td>\n      <td>30</td>\n      <td>0.4</td>\n      <td>97</td>\n      <td>3</td>\n      <td>10</td>\n      <td>290</td>\n      <td>773</td>\n      <td>594</td>\n      <td>12</td>\n      <td>0</td>\n      <td>4</td>\n      <td>1</td>\n      <td>1</td>\n      <td>1</td>\n      <td>0.00</td>\n      <td>0</td>\n      <td>0.00</td>\n    </tr>\n    <tr>\n      <th>1533</th>\n      <td>642</td>\n      <td>1</td>\n      <td>0.5</td>\n      <td>0</td>\n      <td>0</td>\n      <td>1</td>\n      <td>38</td>\n      <td>0.8</td>\n      <td>86</td>\n      <td>5</td>\n      <td>10</td>\n      <td>887</td>\n      <td>1775</td>\n      <td>435</td>\n      <td>9</td>\n      <td>2</td>\n      <td>2</td>\n      <td>1</td>\n      <td>1</td>\n      <td>0</td>\n      <td>0.08</td>\n      <td>0</td>\n      <td>0.08</td>\n    </tr>\n    <tr>\n      <th>1303</th>\n      <td>888</td>\n      <td>0</td>\n      <td>2.6</td>\n      <td>1</td>\n      <td>2</td>\n      <td>1</td>\n      <td>33</td>\n      <td>0.4</td>\n      <td>198</td>\n      <td>2</td>\n      <td>17</td>\n      <td>327</td>\n      <td>1683</td>\n      <td>3407</td>\n      <td>12</td>\n      <td>1</td>\n      <td>20</td>\n      <td>1</td>\n      <td>0</td>\n      <td>0</td>\n      <td>2.68</td>\n      <td>3</td>\n      <td>0.32</td>\n    </tr>\n    <tr>\n      <th>1857</th>\n      <td>914</td>\n      <td>1</td>\n      <td>0.7</td>\n      <td>0</td>\n      <td>1</td>\n      <td>1</td>\n      <td>60</td>\n      <td>0.9</td>\n      <td>198</td>\n      <td>5</td>\n      <td>4</td>\n      <td>740</td>\n      <td>840</td>\n      <td>3736</td>\n      <td>14</td>\n      <td>8</td>\n      <td>5</td>\n      <td>1</td>\n      <td>0</td>\n      <td>0</td>\n      <td>2.84</td>\n      <td>3</td>\n      <td>0.16</td>\n    </tr>\n    <tr>\n      <th>18</th>\n      <td>1131</td>\n      <td>1</td>\n      <td>0.5</td>\n      <td>1</td>\n      <td>11</td>\n      <td>0</td>\n      <td>49</td>\n      <td>0.6</td>\n      <td>101</td>\n      <td>5</td>\n      <td>18</td>\n      <td>658</td>\n      <td>878</td>\n      <td>1835</td>\n      <td>19</td>\n      <td>13</td>\n      <td>16</td>\n      <td>1</td>\n      <td>1</td>\n      <td>0</td>\n      <td>0.95</td>\n      <td>1</td>\n      <td>0.05</td>\n    </tr>\n  </tbody>\n</table>\n</div>",
      "text/plain": "      battery_power  blue  clock_speed  dual_sim  fc  four_g  int_memory  \\\n405            1454     1          0.5         1   1       0          34   \n1190           1092     1          0.5         1  10       0          11   \n1132           1524     1          1.8         1   0       0          10   \n731            1807     1          2.1         0   2       0          49   \n1754           1086     1          1.7         1   0       1          43   \n1178            909     1          0.5         1   9       0          30   \n1533            642     1          0.5         0   0       1          38   \n1303            888     0          2.6         1   2       1          33   \n1857            914     1          0.7         0   1       1          60   \n18             1131     1          0.5         1  11       0          49   \n\n      m_dep  mobile_wt  n_cores  pc  px_height  px_width   ram  sc_h  sc_w  \\\n405     0.7         83        4   3        250      1033  3419     7     5   \n1190    0.5        167        3  14        468       571   737    14     4   \n1132    0.6        174        4   1        154       550  2678    16     5   \n731     0.8        125        1  10        337      1384  1906    17    13   \n1754    0.2        111        6   1         56      1150  3285    11     5   \n1178    0.4         97        3  10        290       773   594    12     0   \n1533    0.8         86        5  10        887      1775   435     9     2   \n1303    0.4        198        2  17        327      1683  3407    12     1   \n1857    0.9        198        5   4        740       840  3736    14     8   \n18      0.6        101        5  18        658       878  1835    19    13   \n\n      talk_time  three_g  touch_screen  wifi  predicted  actual  diff  \n405           5        1             1     0       2.98       3  0.02  \n1190         11        0             1     0       0.00       0  0.00  \n1132         13        1             0     1       1.97       2  0.03  \n731          13        0             1     1       1.69       2  0.31  \n1754         17        1             1     0       2.70       2  0.70  \n1178          4        1             1     1       0.00       0  0.00  \n1533          2        1             1     0       0.08       0  0.08  \n1303         20        1             0     0       2.68       3  0.32  \n1857          5        1             0     0       2.84       3  0.16  \n18           16        1             1     0       0.95       1  0.05  "
     },
     "execution_count": 20,
     "metadata": {},
     "output_type": "execute_result"
    }
   ],
   "source": [
    "results = X_valid\n",
    "results['predicted'] = predictions\n",
    "results['actual'] = y_valid\n",
    "results['diff'] = abs(results['predicted'] - results['actual'])\n",
    "results.head(10)"
   ]
  },
  {
   "cell_type": "markdown",
   "metadata": {},
   "source": [
    "## Get the Mean Absolute Error\n",
    "\n",
    "The MAE is a value that tells us within what distance of the actual value our prediction will fall, in this case it means that the model will return a result within 0.17 of the actual result (in our case our expected values range between 1 and 3) on average "
   ]
  },
  {
   "cell_type": "code",
   "execution_count": 21,
   "metadata": {},
   "outputs": [
    {
     "name": "stdout",
     "output_type": "stream",
     "text": "MAE: 0.171375\n"
    }
   ],
   "source": [
    "score = mean_absolute_error(y_valid, predictions)\n",
    "print('MAE:', score)"
   ]
  },
  {
   "cell_type": "markdown",
   "metadata": {},
   "source": [
    "## XGBoost\n",
    "\n",
    "> We'll use the same data as above"
   ]
  },
  {
   "cell_type": "code",
   "execution_count": 22,
   "metadata": {},
   "outputs": [],
   "source": [
    "df = pd.read_csv(DATA_FILE)\n",
    "\n",
    "X = df.drop('price_range', axis=1)\n",
    "y = df.price_range\n",
    "\n",
    "X_train, X_valid, y_train, y_valid = train_test_split(X, y, train_size=0.8, test_size=0.2, random_state=0)\n",
    "\n",
    "categorical_cols = [cname for cname in X_train_full.columns if X_train_full[cname].nunique() < 10 and \n",
    "                        X_train_full[cname].dtype == \"object\"]\n",
    "\n",
    "numerical_cols = [cname for cname in X_train_full.columns if X_train_full[cname].dtype in ['int64', 'float64']]\n",
    "\n",
    "my_cols = categorical_cols + numerical_cols\n",
    "\n",
    "X_train = X_train_full[my_cols].copy()\n",
    "X_valid = X_valid_full[my_cols].copy()\n",
    "\n",
    "numerical_transformer = SimpleImputer(strategy='constant')\n",
    "\n",
    "categorical_transformer = Pipeline(steps=[\n",
    "    ('imputer', SimpleImputer(strategy='most_frequent')),\n",
    "    ('onehot', OneHotEncoder(handle_unknown='ignore'))\n",
    "])\n",
    "\n",
    "preprocessor = ColumnTransformer(\n",
    "    transformers=[\n",
    "        ('num', numerical_transformer, numerical_cols),\n",
    "        ('cat', categorical_transformer, categorical_cols)\n",
    "    ])"
   ]
  },
  {
   "cell_type": "markdown",
   "metadata": {},
   "source": [
    "### Train the Model"
   ]
  },
  {
   "cell_type": "markdown",
   "metadata": {},
   "source": [
    "### Using the Default Parameters"
   ]
  },
  {
   "cell_type": "markdown",
   "metadata": {},
   "source": [
    "#### 1. Create Model Instance\n",
    "\n",
    "Below we have an example of a model instance created using no parameters, so everything is defaulted, and we can train that like so:\n",
    "\n",
    "```py\n",
    "model = XGBRegressor()\n",
    "\n",
    "pipeline = Pipeline(steps=[('preprocessor', preprocessor),\n",
    "                              ('model', model)])\n",
    "\n",
    "pipeline.fit(X_train, y_train)\n",
    "```\n",
    "\n",
    "Some of the params we can set are:\n",
    "\n",
    "- `n_estimators` which is essentially how many models we want in the ensemble, this is usually between 100 and 1000 but is impacted by the learning rate\n",
    "- `learning_rate` is how much we want the model to retain between passes, by default this is `0.1`, but we can choose a lower value which will mean the model retains less, this can help us to prevent overfitting\n",
    "- `early_stopping_rounds` is the number of rounds after deteration that we want the model to stop increasing the `n_estimators` this is done by giving it a set of testing data `eval_set` which it will use to optimize with, a good value for this is `early_stopping_rounds=5`\n",
    "- `objective` is a string or function that lets us specify the objective/type of model we would like to build -  a list of `objective`s can be found [here](https://xgboost.readthedocs.io/en/latest/parameter.html#learning-task-parameters)\n",
    "- If using a multi-class (`multi:softmax`) classifier you also have to state the number of classes as `num_class=4`\n",
    "\n",
    "Below we'll use a bit of a more complex mode configuration\n"
   ]
  },
  {
   "cell_type": "code",
   "execution_count": 30,
   "metadata": {},
   "outputs": [],
   "source": [
    "model = XGBRegressor(n_estimators=1000, learning_rate=0.1, objective='multi:softmax', num_class=4)"
   ]
  },
  {
   "cell_type": "markdown",
   "metadata": {},
   "source": [
    "#### 2. Add the Model to a Pipeline"
   ]
  },
  {
   "cell_type": "code",
   "execution_count": 31,
   "metadata": {},
   "outputs": [],
   "source": [
    "pipeline = Pipeline(steps=[('preprocessor', preprocessor),\n",
    "                              ('model', model)])"
   ]
  },
  {
   "cell_type": "markdown",
   "metadata": {},
   "source": [
    "#### 3. Train the Pipeline\n",
    "\n",
    "- Note that we need to pre-format our `eval_set` data so that it has the proprocessing steps applied so that the data structures are aligned\n",
    "- We also need to prefix any inputs that we want passed on to our model with `model__` so that the pipeline passes it to the correct object"
   ]
  },
  {
   "cell_type": "code",
   "execution_count": 32,
   "metadata": {},
   "outputs": [],
   "source": [
    "preprocessor.fit(X_valid)\n",
    "X_valid_transformed = preprocessor.transform(X_valid)"
   ]
  },
  {
   "cell_type": "code",
   "execution_count": 39,
   "metadata": {},
   "outputs": [
    {
     "data": {
      "text/plain": "Pipeline(memory=None,\n         steps=[('preprocessor',\n                 ColumnTransformer(n_jobs=None, remainder='drop',\n                                   sparse_threshold=0.3,\n                                   transformer_weights=None,\n                                   transformers=[('num',\n                                                  SimpleImputer(add_indicator=False,\n                                                                copy=True,\n                                                                fill_value=None,\n                                                                missing_values=nan,\n                                                                strategy='constant',\n                                                                verbose=0),\n                                                  ['battery_power', 'blue',\n                                                   'clock_speed', 'dual_sim',\n                                                   'fc', 'four_g', 'int_memory',\n                                                   'm_dep...\n                              colsample_bylevel=1, colsample_bynode=1,\n                              colsample_bytree=1, gamma=0,\n                              importance_type='gain', learning_rate=0.1,\n                              max_delta_step=0, max_depth=3, min_child_weight=1,\n                              missing=None, n_estimators=1000, n_jobs=1,\n                              nthread=None, num_class=4,\n                              objective='multi:softmax', random_state=0,\n                              reg_alpha=0, reg_lambda=1, scale_pos_weight=1,\n                              seed=None, silent=None, subsample=1,\n                              verbosity=1))],\n         verbose=False)"
     },
     "execution_count": 39,
     "metadata": {},
     "output_type": "execute_result"
    }
   ],
   "source": [
    "pipeline.fit(X_train, y_train, \n",
    "                model__early_stopping_rounds=20, \n",
    "                model__eval_set=[(X_valid_transformed, y_valid)],\n",
    "                model__verbose=False)"
   ]
  },
  {
   "cell_type": "markdown",
   "metadata": {},
   "source": [
    "#### 4. Predict using the Pipeline"
   ]
  },
  {
   "cell_type": "code",
   "execution_count": 34,
   "metadata": {},
   "outputs": [
    {
     "name": "stdout",
     "output_type": "stream",
     "text": "Mean Absolute Error: 0.0575\n"
    }
   ],
   "source": [
    "predictions = pipeline.predict(X_valid)\n",
    "print(\"Mean Absolute Error: \" + str(mean_absolute_error(predictions, y_valid)))"
   ]
  },
  {
   "cell_type": "markdown",
   "metadata": {},
   "source": [
    "## Cross Validation\n",
    "\n",
    "We can do cross-validation using the `cross_val_score` function from `sklearn` by:\n",
    "\n",
    "1. Defining the pipeline\n",
    "2. Defining the number of folds\n",
    "3. Defining the model\n",
    "4. Applying the cross-validation to the pipeline"
   ]
  },
  {
   "cell_type": "markdown",
   "metadata": {},
   "source": [
    "### 1. Define the Pipeline"
   ]
  },
  {
   "cell_type": "code",
   "execution_count": 38,
   "metadata": {},
   "outputs": [],
   "source": [
    "df = pd.read_csv(DATA_FILE)\n",
    "\n",
    "X = df.drop('price_range', axis=1)\n",
    "y = df.price_range\n",
    "\n",
    "numerical_transformer = SimpleImputer(strategy='constant')\n",
    "\n",
    "categorical_transformer = Pipeline(steps=[\n",
    "    ('imputer', SimpleImputer(strategy='most_frequent')),\n",
    "    ('onehot', OneHotEncoder(handle_unknown='ignore'))\n",
    "])\n",
    "\n",
    "preprocessor = ColumnTransformer(\n",
    "    transformers=[\n",
    "        ('num', numerical_transformer, numerical_cols),\n",
    "        ('cat', categorical_transformer, categorical_cols)\n",
    "    ])"
   ]
  },
  {
   "cell_type": "code",
   "execution_count": 37,
   "metadata": {},
   "outputs": [],
   "source": [
    "# n_estimators based on the previous value\n",
    "model = XGBRegressor(n_estimators=190, learning_rate=0.1, objective='multi:softmax', num_class=4)"
   ]
  },
  {
   "cell_type": "code",
   "execution_count": 42,
   "metadata": {},
   "outputs": [],
   "source": [
    "validation_result = cross_val_score(pipeline, X, y, cv=3)"
   ]
  },
  {
   "cell_type": "code",
   "execution_count": null,
   "metadata": {},
   "outputs": [],
   "source": [
    "validation_result"
   ]
  },
  {
   "cell_type": "code",
   "execution_count": null,
   "metadata": {},
   "outputs": [],
   "source": []
  }
 ]
}
