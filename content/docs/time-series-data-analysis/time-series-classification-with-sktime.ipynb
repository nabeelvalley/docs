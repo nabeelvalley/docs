{
 "cells": [
  {
   "cell_type": "markdown",
   "id": "00792417",
   "metadata": {
    "papermill": {
     "duration": 0.008368,
     "end_time": "2022-10-31T13:55:14.792627",
     "exception": false,
     "start_time": "2022-10-31T13:55:14.784259",
     "status": "completed"
    },
    "tags": []
   },
   "source": [
    "> [View this Notebook on Kaggle](https://www.kaggle.com/code/nabeelvalley/time-series-classification-with-sktime)\n",
    "\n",
    "# Time Series Classification with SKTime\n",
    "\n",
    "> [SKTime Docs](https://www.sktime.org/)\n",
    "\n",
    "![SKTime Tasks](https://raw.githubusercontent.com/sktime/sktime-tutorial-pydata-global-2021/main/images/reduction-relations.png)\n",
    "\n",
    "## Resources\n",
    "\n",
    "- [Overview of time series analysis Python packages](https://siebert-julien.github.io/time-series-analysis-python/)\n",
    "- [sktime - A Unified Toolbox for ML with Time Series - Markus Löning | PyData Global 2021](https://www.youtube.com/watch?v=ODspi8-uWgo)\n",
    "- [GitHub SKTime Tutorial](https://github.com/sktime/sktime-tutorial-pydata-global-2021)"
   ]
  },
  {
   "cell_type": "code",
   "execution_count": 1,
   "id": "57dde6c9",
   "metadata": {
    "execution": {
     "iopub.execute_input": "2022-10-31T13:55:14.808947Z",
     "iopub.status.busy": "2022-10-31T13:55:14.808274Z",
     "iopub.status.idle": "2022-10-31T13:55:30.174517Z",
     "shell.execute_reply": "2022-10-31T13:55:30.172773Z"
    },
    "papermill": {
     "duration": 15.378563,
     "end_time": "2022-10-31T13:55:30.178179",
     "exception": false,
     "start_time": "2022-10-31T13:55:14.799616",
     "status": "completed"
    },
    "tags": []
   },
   "outputs": [
    {
     "name": "stdout",
     "output_type": "stream",
     "text": [
      "Collecting sktime\r\n",
      "  Downloading sktime-0.13.4-py3-none-any.whl (7.0 MB)\r\n",
      "\u001b[2K     \u001b[90m━━━━━━━━━━━━━━━━━━━━━━━━━━━━━━━━━━━━━━━━\u001b[0m \u001b[32m7.0/7.0 MB\u001b[0m \u001b[31m36.0 MB/s\u001b[0m eta \u001b[36m0:00:00\u001b[0m\r\n",
      "\u001b[?25hRequirement already satisfied: pandas<1.6.0,>=1.1.0 in /opt/conda/lib/python3.7/site-packages (from sktime) (1.3.5)\r\n",
      "Requirement already satisfied: numpy<1.23,>=1.21.0 in /opt/conda/lib/python3.7/site-packages (from sktime) (1.21.6)\r\n",
      "Requirement already satisfied: scikit-learn<1.2.0,>=0.24.0 in /opt/conda/lib/python3.7/site-packages (from sktime) (1.0.2)\r\n",
      "Requirement already satisfied: statsmodels>=0.12.1 in /opt/conda/lib/python3.7/site-packages (from sktime) (0.13.2)\r\n",
      "Collecting deprecated>=1.2.13\r\n",
      "  Downloading Deprecated-1.2.13-py2.py3-none-any.whl (9.6 kB)\r\n",
      "Requirement already satisfied: scipy<1.9.0 in /opt/conda/lib/python3.7/site-packages (from sktime) (1.7.3)\r\n",
      "Requirement already satisfied: numba>=0.53 in /opt/conda/lib/python3.7/site-packages (from sktime) (0.55.2)\r\n",
      "Requirement already satisfied: wrapt<2,>=1.10 in /opt/conda/lib/python3.7/site-packages (from deprecated>=1.2.13->sktime) (1.12.1)\r\n",
      "Requirement already satisfied: llvmlite<0.39,>=0.38.0rc1 in /opt/conda/lib/python3.7/site-packages (from numba>=0.53->sktime) (0.38.1)\r\n",
      "Requirement already satisfied: setuptools in /opt/conda/lib/python3.7/site-packages (from numba>=0.53->sktime) (59.8.0)\r\n",
      "Requirement already satisfied: python-dateutil>=2.7.3 in /opt/conda/lib/python3.7/site-packages (from pandas<1.6.0,>=1.1.0->sktime) (2.8.2)\r\n",
      "Requirement already satisfied: pytz>=2017.3 in /opt/conda/lib/python3.7/site-packages (from pandas<1.6.0,>=1.1.0->sktime) (2022.1)\r\n",
      "Requirement already satisfied: threadpoolctl>=2.0.0 in /opt/conda/lib/python3.7/site-packages (from scikit-learn<1.2.0,>=0.24.0->sktime) (3.1.0)\r\n",
      "Requirement already satisfied: joblib>=0.11 in /opt/conda/lib/python3.7/site-packages (from scikit-learn<1.2.0,>=0.24.0->sktime) (1.0.1)\r\n",
      "Requirement already satisfied: patsy>=0.5.2 in /opt/conda/lib/python3.7/site-packages (from statsmodels>=0.12.1->sktime) (0.5.2)\r\n",
      "Requirement already satisfied: packaging>=21.3 in /opt/conda/lib/python3.7/site-packages (from statsmodels>=0.12.1->sktime) (21.3)\r\n",
      "Requirement already satisfied: pyparsing!=3.0.5,>=2.0.2 in /opt/conda/lib/python3.7/site-packages (from packaging>=21.3->statsmodels>=0.12.1->sktime) (3.0.9)\r\n",
      "Requirement already satisfied: six in /opt/conda/lib/python3.7/site-packages (from patsy>=0.5.2->statsmodels>=0.12.1->sktime) (1.15.0)\r\n",
      "Installing collected packages: deprecated, sktime\r\n",
      "Successfully installed deprecated-1.2.13 sktime-0.13.4\r\n",
      "\u001b[33mWARNING: Running pip as the 'root' user can result in broken permissions and conflicting behaviour with the system package manager. It is recommended to use a virtual environment instead: https://pip.pypa.io/warnings/venv\u001b[0m\u001b[33m\r\n",
      "\u001b[0m"
     ]
    }
   ],
   "source": [
    "!pip install sktime"
   ]
  },
  {
   "cell_type": "markdown",
   "id": "1c641ee2",
   "metadata": {
    "papermill": {
     "duration": 0.007241,
     "end_time": "2022-10-31T13:55:30.193693",
     "exception": false,
     "start_time": "2022-10-31T13:55:30.186452",
     "status": "completed"
    },
    "tags": []
   },
   "source": [
    "# Methodology\n",
    "\n",
    "Using `sktime` for classification is similar to using it for forecasting wherein there are either predefined models or we can transform exising `sklearn` models to make them usable with time series data"
   ]
  },
  {
   "cell_type": "markdown",
   "id": "6b776ac4",
   "metadata": {
    "papermill": {
     "duration": 0.008162,
     "end_time": "2022-10-31T13:55:30.209516",
     "exception": false,
     "start_time": "2022-10-31T13:55:30.201354",
     "status": "completed"
    },
    "tags": []
   },
   "source": [
    "## Importing Data\n",
    "\n",
    "We can import the arrow head dataset and graph some of the entries"
   ]
  },
  {
   "cell_type": "code",
   "execution_count": 2,
   "id": "bdd4e56c",
   "metadata": {
    "execution": {
     "iopub.execute_input": "2022-10-31T13:55:30.227653Z",
     "iopub.status.busy": "2022-10-31T13:55:30.227175Z",
     "iopub.status.idle": "2022-10-31T13:55:33.470855Z",
     "shell.execute_reply": "2022-10-31T13:55:33.469520Z"
    },
    "papermill": {
     "duration": 3.256573,
     "end_time": "2022-10-31T13:55:33.473831",
     "exception": false,
     "start_time": "2022-10-31T13:55:30.217258",
     "status": "completed"
    },
    "tags": []
   },
   "outputs": [],
   "source": [
    "import pandas as pd\n",
    "\n",
    "from sktime.datasets import load_arrow_head\n",
    "from sktime.utils.plotting import plot_series\n",
    "from sklearn.model_selection import train_test_split\n"
   ]
  },
  {
   "cell_type": "code",
   "execution_count": 3,
   "id": "5393eb44",
   "metadata": {
    "execution": {
     "iopub.execute_input": "2022-10-31T13:55:33.493029Z",
     "iopub.status.busy": "2022-10-31T13:55:33.492620Z",
     "iopub.status.idle": "2022-10-31T13:55:33.558979Z",
     "shell.execute_reply": "2022-10-31T13:55:33.557823Z"
    },
    "papermill": {
     "duration": 0.078251,
     "end_time": "2022-10-31T13:55:33.561796",
     "exception": false,
     "start_time": "2022-10-31T13:55:33.483545",
     "status": "completed"
    },
    "tags": []
   },
   "outputs": [],
   "source": [
    "X, y = load_arrow_head()"
   ]
  },
  {
   "cell_type": "code",
   "execution_count": 4,
   "id": "4a19e475",
   "metadata": {
    "execution": {
     "iopub.execute_input": "2022-10-31T13:55:33.579182Z",
     "iopub.status.busy": "2022-10-31T13:55:33.578739Z",
     "iopub.status.idle": "2022-10-31T13:55:33.605095Z",
     "shell.execute_reply": "2022-10-31T13:55:33.603908Z"
    },
    "papermill": {
     "duration": 0.037944,
     "end_time": "2022-10-31T13:55:33.607530",
     "exception": false,
     "start_time": "2022-10-31T13:55:33.569586",
     "status": "completed"
    },
    "tags": []
   },
   "outputs": [
    {
     "data": {
      "text/html": [
       "<div>\n",
       "<style scoped>\n",
       "    .dataframe tbody tr th:only-of-type {\n",
       "        vertical-align: middle;\n",
       "    }\n",
       "\n",
       "    .dataframe tbody tr th {\n",
       "        vertical-align: top;\n",
       "    }\n",
       "\n",
       "    .dataframe thead th {\n",
       "        text-align: right;\n",
       "    }\n",
       "</style>\n",
       "<table border=\"1\" class=\"dataframe\">\n",
       "  <thead>\n",
       "    <tr style=\"text-align: right;\">\n",
       "      <th></th>\n",
       "      <th>dim_0</th>\n",
       "    </tr>\n",
       "  </thead>\n",
       "  <tbody>\n",
       "    <tr>\n",
       "      <th>0</th>\n",
       "      <td>0     -1.963009\n",
       "1     -1.957825\n",
       "2     -1.95614...</td>\n",
       "    </tr>\n",
       "    <tr>\n",
       "      <th>1</th>\n",
       "      <td>0     -1.774571\n",
       "1     -1.774036\n",
       "2     -1.77658...</td>\n",
       "    </tr>\n",
       "    <tr>\n",
       "      <th>2</th>\n",
       "      <td>0     -1.866021\n",
       "1     -1.841991\n",
       "2     -1.83502...</td>\n",
       "    </tr>\n",
       "    <tr>\n",
       "      <th>3</th>\n",
       "      <td>0     -2.073758\n",
       "1     -2.073301\n",
       "2     -2.04460...</td>\n",
       "    </tr>\n",
       "    <tr>\n",
       "      <th>4</th>\n",
       "      <td>0     -1.746255\n",
       "1     -1.741263\n",
       "2     -1.72274...</td>\n",
       "    </tr>\n",
       "  </tbody>\n",
       "</table>\n",
       "</div>"
      ],
      "text/plain": [
       "                                               dim_0\n",
       "0  0     -1.963009\n",
       "1     -1.957825\n",
       "2     -1.95614...\n",
       "1  0     -1.774571\n",
       "1     -1.774036\n",
       "2     -1.77658...\n",
       "2  0     -1.866021\n",
       "1     -1.841991\n",
       "2     -1.83502...\n",
       "3  0     -2.073758\n",
       "1     -2.073301\n",
       "2     -2.04460...\n",
       "4  0     -1.746255\n",
       "1     -1.741263\n",
       "2     -1.72274..."
      ]
     },
     "execution_count": 4,
     "metadata": {},
     "output_type": "execute_result"
    }
   ],
   "source": [
    "X.head()"
   ]
  },
  {
   "cell_type": "code",
   "execution_count": 5,
   "id": "c6326cb0",
   "metadata": {
    "execution": {
     "iopub.execute_input": "2022-10-31T13:55:33.625205Z",
     "iopub.status.busy": "2022-10-31T13:55:33.624390Z",
     "iopub.status.idle": "2022-10-31T13:55:33.632729Z",
     "shell.execute_reply": "2022-10-31T13:55:33.631441Z"
    },
    "papermill": {
     "duration": 0.019912,
     "end_time": "2022-10-31T13:55:33.635244",
     "exception": false,
     "start_time": "2022-10-31T13:55:33.615332",
     "status": "completed"
    },
    "tags": []
   },
   "outputs": [
    {
     "data": {
      "text/plain": [
       "array(['0', '1', '2', '0', '1'], dtype='<U1')"
      ]
     },
     "execution_count": 5,
     "metadata": {},
     "output_type": "execute_result"
    }
   ],
   "source": [
    "y[:5]"
   ]
  },
  {
   "cell_type": "code",
   "execution_count": 6,
   "id": "b4ed93b7",
   "metadata": {
    "execution": {
     "iopub.execute_input": "2022-10-31T13:55:33.652632Z",
     "iopub.status.busy": "2022-10-31T13:55:33.652230Z",
     "iopub.status.idle": "2022-10-31T13:55:34.141002Z",
     "shell.execute_reply": "2022-10-31T13:55:34.139312Z"
    },
    "papermill": {
     "duration": 0.500645,
     "end_time": "2022-10-31T13:55:34.143857",
     "exception": false,
     "start_time": "2022-10-31T13:55:33.643212",
     "status": "completed"
    },
    "tags": []
   },
   "outputs": [
    {
     "data": {
      "text/plain": [
       "(<Figure size 1152x288 with 1 Axes>, <AxesSubplot:>)"
      ]
     },
     "execution_count": 6,
     "metadata": {},
     "output_type": "execute_result"
    },
    {
     "data": {
      "image/png": "[encoded data removed]",
      "text/plain": [
       "<Figure size 1152x288 with 1 Axes>"
      ]
     },
     "metadata": {
      "needs_background": "light"
     },
     "output_type": "display_data"
    }
   ],
   "source": [
    "X_0 = list(X['dim_0'][0])\n",
    "plot_series(pd.Series(X_0))"
   ]
  },
  {
   "cell_type": "code",
   "execution_count": 7,
   "id": "86efb64a",
   "metadata": {
    "execution": {
     "iopub.execute_input": "2022-10-31T13:55:34.163725Z",
     "iopub.status.busy": "2022-10-31T13:55:34.163279Z",
     "iopub.status.idle": "2022-10-31T13:55:34.414338Z",
     "shell.execute_reply": "2022-10-31T13:55:34.413101Z"
    },
    "papermill": {
     "duration": 0.265086,
     "end_time": "2022-10-31T13:55:34.417707",
     "exception": false,
     "start_time": "2022-10-31T13:55:34.152621",
     "status": "completed"
    },
    "tags": []
   },
   "outputs": [
    {
     "data": {
      "text/plain": [
       "(<Figure size 1152x288 with 1 Axes>, <AxesSubplot:>)"
      ]
     },
     "execution_count": 7,
     "metadata": {},
     "output_type": "execute_result"
    },
    {
     "data": {
      "image/png": "[encoded data removed]",
      "text/plain": [
       "<Figure size 1152x288 with 1 Axes>"
      ]
     },
     "metadata": {
      "needs_background": "light"
     },
     "output_type": "display_data"
    }
   ],
   "source": [
    "X_1 = list(X['dim_0'][1])\n",
    "plot_series(pd.Series(X_1))"
   ]
  },
  {
   "cell_type": "markdown",
   "id": "eef42a63",
   "metadata": {
    "papermill": {
     "duration": 0.008813,
     "end_time": "2022-10-31T13:55:34.436289",
     "exception": false,
     "start_time": "2022-10-31T13:55:34.427476",
     "status": "completed"
    },
    "tags": []
   },
   "source": [
    "## Train/Test Split\n",
    "\n",
    "Train/Test splitting can be cone using sklearn as normal since each row is a different series/observation"
   ]
  },
  {
   "cell_type": "code",
   "execution_count": 8,
   "id": "e82ee2b8",
   "metadata": {
    "execution": {
     "iopub.execute_input": "2022-10-31T13:55:34.456699Z",
     "iopub.status.busy": "2022-10-31T13:55:34.455891Z",
     "iopub.status.idle": "2022-10-31T13:55:34.461575Z",
     "shell.execute_reply": "2022-10-31T13:55:34.460200Z"
    },
    "papermill": {
     "duration": 0.018816,
     "end_time": "2022-10-31T13:55:34.464115",
     "exception": false,
     "start_time": "2022-10-31T13:55:34.445299",
     "status": "completed"
    },
    "tags": []
   },
   "outputs": [],
   "source": [
    "from sklearn.model_selection import train_test_split"
   ]
  },
  {
   "cell_type": "code",
   "execution_count": 9,
   "id": "6ee16c5f",
   "metadata": {
    "execution": {
     "iopub.execute_input": "2022-10-31T13:55:34.484756Z",
     "iopub.status.busy": "2022-10-31T13:55:34.484061Z",
     "iopub.status.idle": "2022-10-31T13:55:34.489676Z",
     "shell.execute_reply": "2022-10-31T13:55:34.488716Z"
    },
    "papermill": {
     "duration": 0.018723,
     "end_time": "2022-10-31T13:55:34.491981",
     "exception": false,
     "start_time": "2022-10-31T13:55:34.473258",
     "status": "completed"
    },
    "tags": []
   },
   "outputs": [],
   "source": [
    "X_train, X_test, y_train, y_test = train_test_split(X, y)"
   ]
  },
  {
   "cell_type": "markdown",
   "id": "c1ab4622",
   "metadata": {
    "papermill": {
     "duration": 0.008631,
     "end_time": "2022-10-31T13:55:34.509799",
     "exception": false,
     "start_time": "2022-10-31T13:55:34.501168",
     "status": "completed"
    },
    "tags": []
   },
   "source": [
    "## Using a Classifier\n",
    "\n",
    "`sktime` has built in classifiers that can be used as normal `sklearn` classifiers:"
   ]
  },
  {
   "cell_type": "code",
   "execution_count": 10,
   "id": "4a64e0e9",
   "metadata": {
    "execution": {
     "iopub.execute_input": "2022-10-31T13:55:34.530376Z",
     "iopub.status.busy": "2022-10-31T13:55:34.529199Z",
     "iopub.status.idle": "2022-10-31T13:55:35.975908Z",
     "shell.execute_reply": "2022-10-31T13:55:35.974715Z"
    },
    "papermill": {
     "duration": 1.46,
     "end_time": "2022-10-31T13:55:35.978816",
     "exception": false,
     "start_time": "2022-10-31T13:55:34.518816",
     "status": "completed"
    },
    "tags": []
   },
   "outputs": [],
   "source": [
    "from sktime.classification.interval_based import TimeSeriesForestClassifier"
   ]
  },
  {
   "cell_type": "code",
   "execution_count": 11,
   "id": "b8755379",
   "metadata": {
    "execution": {
     "iopub.execute_input": "2022-10-31T13:55:35.999291Z",
     "iopub.status.busy": "2022-10-31T13:55:35.998300Z",
     "iopub.status.idle": "2022-10-31T13:55:38.614287Z",
     "shell.execute_reply": "2022-10-31T13:55:38.613018Z"
    },
    "papermill": {
     "duration": 2.629149,
     "end_time": "2022-10-31T13:55:38.617147",
     "exception": false,
     "start_time": "2022-10-31T13:55:35.987998",
     "status": "completed"
    },
    "tags": []
   },
   "outputs": [
    {
     "data": {
      "text/plain": [
       "TimeSeriesForestClassifier()"
      ]
     },
     "execution_count": 11,
     "metadata": {},
     "output_type": "execute_result"
    }
   ],
   "source": [
    "classifier = TimeSeriesForestClassifier()\n",
    "classifier.fit(X_train, y_train)"
   ]
  },
  {
   "cell_type": "markdown",
   "id": "10bb6b5a",
   "metadata": {
    "papermill": {
     "duration": 0.009085,
     "end_time": "2022-10-31T13:55:38.635843",
     "exception": false,
     "start_time": "2022-10-31T13:55:38.626758",
     "status": "completed"
    },
    "tags": []
   },
   "source": [
    "And predictions can be made using the `predict` method:"
   ]
  },
  {
   "cell_type": "code",
   "execution_count": 12,
   "id": "e8008d68",
   "metadata": {
    "execution": {
     "iopub.execute_input": "2022-10-31T13:55:38.656011Z",
     "iopub.status.busy": "2022-10-31T13:55:38.655546Z",
     "iopub.status.idle": "2022-10-31T13:55:39.435591Z",
     "shell.execute_reply": "2022-10-31T13:55:39.434251Z"
    },
    "papermill": {
     "duration": 0.793539,
     "end_time": "2022-10-31T13:55:39.438510",
     "exception": false,
     "start_time": "2022-10-31T13:55:38.644971",
     "status": "completed"
    },
    "tags": []
   },
   "outputs": [],
   "source": [
    "y_pred = classifier.predict(X_test)"
   ]
  },
  {
   "cell_type": "markdown",
   "id": "3fc0033a",
   "metadata": {
    "papermill": {
     "duration": 0.009214,
     "end_time": "2022-10-31T13:55:39.457990",
     "exception": false,
     "start_time": "2022-10-31T13:55:39.448776",
     "status": "completed"
    },
    "tags": []
   },
   "source": [
    "## Model Evaluation\n",
    "\n",
    "We can also check the accuracy using normal `sklearn` metrics, for example `accuracy_score`"
   ]
  },
  {
   "cell_type": "code",
   "execution_count": 13,
   "id": "dd6685ea",
   "metadata": {
    "execution": {
     "iopub.execute_input": "2022-10-31T13:55:39.478906Z",
     "iopub.status.busy": "2022-10-31T13:55:39.478413Z",
     "iopub.status.idle": "2022-10-31T13:55:39.487529Z",
     "shell.execute_reply": "2022-10-31T13:55:39.486150Z"
    },
    "papermill": {
     "duration": 0.023024,
     "end_time": "2022-10-31T13:55:39.490538",
     "exception": false,
     "start_time": "2022-10-31T13:55:39.467514",
     "status": "completed"
    },
    "tags": []
   },
   "outputs": [
    {
     "data": {
      "text/plain": [
       "0.9056603773584906"
      ]
     },
     "execution_count": 13,
     "metadata": {},
     "output_type": "execute_result"
    }
   ],
   "source": [
    "from sklearn.metrics import accuracy_score\n",
    "accuracy_score(y_test, y_pred)"
   ]
  },
  {
   "cell_type": "code",
   "execution_count": 14,
   "id": "f83a1534",
   "metadata": {
    "execution": {
     "iopub.execute_input": "2022-10-31T13:55:39.511757Z",
     "iopub.status.busy": "2022-10-31T13:55:39.511195Z",
     "iopub.status.idle": "2022-10-31T13:55:39.788934Z",
     "shell.execute_reply": "2022-10-31T13:55:39.787646Z"
    },
    "papermill": {
     "duration": 0.291809,
     "end_time": "2022-10-31T13:55:39.791837",
     "exception": false,
     "start_time": "2022-10-31T13:55:39.500028",
     "status": "completed"
    },
    "tags": []
   },
   "outputs": [
    {
     "data": {
      "text/plain": [
       "<sklearn.metrics._plot.confusion_matrix.ConfusionMatrixDisplay at 0x7f826205ddd0>"
      ]
     },
     "execution_count": 14,
     "metadata": {},
     "output_type": "execute_result"
    },
    {
     "data": {
      "image/png": "[encoded data removed]",
      "text/plain": [
       "<Figure size 432x288 with 2 Axes>"
      ]
     },
     "metadata": {
      "needs_background": "light"
     },
     "output_type": "display_data"
    }
   ],
   "source": [
    "from sklearn.metrics import confusion_matrix\n",
    "from sklearn.metrics import confusion_matrix, ConfusionMatrixDisplay\n",
    "\n",
    "matrix = confusion_matrix(y_test, y_pred)\n",
    "disp = ConfusionMatrixDisplay(matrix)\n",
    "disp.plot()"
   ]
  },
  {
   "cell_type": "markdown",
   "id": "f96ff3f8",
   "metadata": {
    "papermill": {
     "duration": 0.009871,
     "end_time": "2022-10-31T13:55:39.811631",
     "exception": false,
     "start_time": "2022-10-31T13:55:39.801760",
     "status": "completed"
    },
    "tags": []
   },
   "source": [
    "## Use with SKLearn Classifiers\n",
    "\n",
    "`sktime` also allows the conversion of data such that it can be used with `sklearn` tabular classifiers. This is done by transforming the classifier using the `Tabularizer` in a sklearn pipeline"
   ]
  },
  {
   "cell_type": "code",
   "execution_count": 15,
   "id": "75e6b04b",
   "metadata": {
    "execution": {
     "iopub.execute_input": "2022-10-31T13:55:39.833940Z",
     "iopub.status.busy": "2022-10-31T13:55:39.833517Z",
     "iopub.status.idle": "2022-10-31T13:55:39.841214Z",
     "shell.execute_reply": "2022-10-31T13:55:39.840163Z"
    },
    "papermill": {
     "duration": 0.021833,
     "end_time": "2022-10-31T13:55:39.843833",
     "exception": false,
     "start_time": "2022-10-31T13:55:39.822000",
     "status": "completed"
    },
    "tags": []
   },
   "outputs": [],
   "source": [
    "from sklearn.ensemble import GradientBoostingClassifier\n",
    "from sklearn.pipeline import make_pipeline\n",
    "\n",
    "from sktime.transformations.panel.reduce import Tabularizer"
   ]
  },
  {
   "cell_type": "code",
   "execution_count": 16,
   "id": "27299857",
   "metadata": {
    "execution": {
     "iopub.execute_input": "2022-10-31T13:55:39.865181Z",
     "iopub.status.busy": "2022-10-31T13:55:39.864715Z",
     "iopub.status.idle": "2022-10-31T13:55:43.758120Z",
     "shell.execute_reply": "2022-10-31T13:55:43.757003Z"
    },
    "papermill": {
     "duration": 3.907157,
     "end_time": "2022-10-31T13:55:43.760708",
     "exception": false,
     "start_time": "2022-10-31T13:55:39.853551",
     "status": "completed"
    },
    "tags": []
   },
   "outputs": [
    {
     "data": {
      "text/plain": [
       "Pipeline(steps=[('tabularizer', Tabularizer()),\n",
       "                ('gradientboostingclassifier', GradientBoostingClassifier())])"
      ]
     },
     "execution_count": 16,
     "metadata": {},
     "output_type": "execute_result"
    }
   ],
   "source": [
    "classifier = make_pipeline(Tabularizer(), GradientBoostingClassifier())\n",
    "classifier.fit(X_train, y_train)"
   ]
  },
  {
   "cell_type": "code",
   "execution_count": 17,
   "id": "ca2e904e",
   "metadata": {
    "execution": {
     "iopub.execute_input": "2022-10-31T13:55:43.782354Z",
     "iopub.status.busy": "2022-10-31T13:55:43.781841Z",
     "iopub.status.idle": "2022-10-31T13:55:44.149516Z",
     "shell.execute_reply": "2022-10-31T13:55:44.148435Z"
    },
    "papermill": {
     "duration": 0.381553,
     "end_time": "2022-10-31T13:55:44.152156",
     "exception": false,
     "start_time": "2022-10-31T13:55:43.770603",
     "status": "completed"
    },
    "tags": []
   },
   "outputs": [],
   "source": [
    "y_pred = classifier.predict(X_test)"
   ]
  },
  {
   "cell_type": "code",
   "execution_count": 18,
   "id": "51852c83",
   "metadata": {
    "execution": {
     "iopub.execute_input": "2022-10-31T13:55:44.175234Z",
     "iopub.status.busy": "2022-10-31T13:55:44.174110Z",
     "iopub.status.idle": "2022-10-31T13:55:44.181398Z",
     "shell.execute_reply": "2022-10-31T13:55:44.180156Z"
    },
    "papermill": {
     "duration": 0.021178,
     "end_time": "2022-10-31T13:55:44.183974",
     "exception": false,
     "start_time": "2022-10-31T13:55:44.162796",
     "status": "completed"
    },
    "tags": []
   },
   "outputs": [
    {
     "data": {
      "text/plain": [
       "0.9056603773584906"
      ]
     },
     "execution_count": 18,
     "metadata": {},
     "output_type": "execute_result"
    }
   ],
   "source": [
    "accuracy_score(y_test, y_pred)"
   ]
  },
  {
   "cell_type": "code",
   "execution_count": 19,
   "id": "8a282664",
   "metadata": {
    "execution": {
     "iopub.execute_input": "2022-10-31T13:55:44.205661Z",
     "iopub.status.busy": "2022-10-31T13:55:44.205236Z",
     "iopub.status.idle": "2022-10-31T13:55:44.469295Z",
     "shell.execute_reply": "2022-10-31T13:55:44.468404Z"
    },
    "papermill": {
     "duration": 0.277842,
     "end_time": "2022-10-31T13:55:44.471636",
     "exception": false,
     "start_time": "2022-10-31T13:55:44.193794",
     "status": "completed"
    },
    "tags": []
   },
   "outputs": [
    {
     "data": {
      "text/plain": [
       "<sklearn.metrics._plot.confusion_matrix.ConfusionMatrixDisplay at 0x7f8261ebb810>"
      ]
     },
     "execution_count": 19,
     "metadata": {},
     "output_type": "execute_result"
    },
    {
     "data": {
      "image/png": "[encoded data removed]",
      "text/plain": [
       "<Figure size 432x288 with 2 Axes>"
      ]
     },
     "metadata": {
      "needs_background": "light"
     },
     "output_type": "display_data"
    }
   ],
   "source": [
    "matrix = confusion_matrix(y_test, y_pred)\n",
    "disp = ConfusionMatrixDisplay(matrix)\n",
    "disp.plot()"
   ]
  },
  {
   "cell_type": "code",
   "execution_count": null,
   "id": "2c3e8797",
   "metadata": {
    "papermill": {
     "duration": 0.009818,
     "end_time": "2022-10-31T13:55:44.491835",
     "exception": false,
     "start_time": "2022-10-31T13:55:44.482017",
     "status": "completed"
    },
    "tags": []
   },
   "outputs": [],
   "source": []
  }
 ],
 "metadata": {
  "kernelspec": {
   "display_name": "Python 3",
   "language": "python",
   "name": "python3"
  },
  "language_info": {
   "codemirror_mode": {
    "name": "ipython",
    "version": 3
   },
   "file_extension": ".py",
   "mimetype": "text/x-python",
   "name": "python",
   "nbconvert_exporter": "python",
   "pygments_lexer": "ipython3",
   "version": "3.7.12"
  },
  "papermill": {
   "default_parameters": {},
   "duration": 39.497015,
   "end_time": "2022-10-31T13:55:45.625921",
   "environment_variables": {},
   "exception": null,
   "input_path": "__notebook__.ipynb",
   "output_path": "__notebook__.ipynb",
   "parameters": {},
   "start_time": "2022-10-31T13:55:06.128906",
   "version": "2.3.4"
  }
 },
 "nbformat": 4,
 "nbformat_minor": 5
}
